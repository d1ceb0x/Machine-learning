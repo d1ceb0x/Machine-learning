{
 "cells": [
  {
   "cell_type": "code",
   "execution_count": 1,
   "id": "1276dff5-3a9b-4172-bbbf-d2e859287183",
   "metadata": {},
   "outputs": [],
   "source": [
    "#My imports\n",
    "import numpy as np\n",
    "import pandas as pd\n",
    "import matplotlib.pyplot as plt\n",
    "import tensorflow as tf\n",
    "from tensorflow import keras\n",
    "from tensorflow.keras.layers import LeakyReLU\n",
    "from tensorflow.keras.optimizers import RMSprop\n",
    "from tensorflow.keras.models import Sequential\n",
    "from scikeras.wrappers import KerasRegressor\n",
    "from tensorflow.keras.layers import Activation, Dense\n",
    "from sklearn.model_selection import cross_val_score\n",
    "from sklearn.model_selection import KFold\n",
    "from sklearn.pipeline import Pipeline\n",
    "from sklearn.model_selection import train_test_split\n",
    "from sklearn.metrics import r2_score\n",
    "from sklearn.metrics import classification_report\n",
    "from sklearn.metrics import root_mean_squared_log_error\n",
    "from sklearn.metrics import mean_absolute_error\n",
    "from sklearn.metrics import mean_squared_error\n",
    "from sklearn.metrics import mean_absolute_percentage_error\n",
    "from sklearn.metrics import root_mean_squared_log_error\n",
    "from sklearn.metrics import root_mean_squared_error\n",
    "import scipy.stats as stats"
   ]
  },
  {
   "cell_type": "code",
   "execution_count": 2,
   "id": "9b943676-8521-46c8-bd56-999a872dcd63",
   "metadata": {},
   "outputs": [],
   "source": [
    "#read in the data\n",
    "df = pd.read_csv('257k-gaiadr2-sources-with-photometry.csv')"
   ]
  },
  {
   "cell_type": "code",
   "execution_count": 3,
   "id": "62032b21-8ea1-440c-8a5e-0200bbe0494c",
   "metadata": {},
   "outputs": [],
   "source": [
    "#Drop irrelevant columns\n",
    "X = df.drop(columns=[\"phot_g_mean_mag\", \"tycho2_id\", \"source_id\"])"
   ]
  },
  {
   "cell_type": "code",
   "execution_count": 4,
   "id": "02a32012-61af-4013-bd25-488cfdb9ea34",
   "metadata": {},
   "outputs": [],
   "source": [
    "#Prediction vector\n",
    "y = df['phot_g_mean_mag']"
   ]
  },
  {
   "cell_type": "code",
   "execution_count": 5,
   "id": "2fb603c0-76f1-4834-8d20-134c0a480177",
   "metadata": {},
   "outputs": [],
   "source": [
    "#Splitting data into train, test\n",
    "from sklearn.preprocessing import StandardScaler\n",
    "X_train, X_test, y_train, y_test = train_test_split(X, y, test_size = 0.3, random_state=0)"
   ]
  },
  {
   "cell_type": "code",
   "execution_count": 6,
   "id": "3333ffe8-1971-4822-982c-6371e253e724",
   "metadata": {},
   "outputs": [],
   "source": [
    "#Time for scaling and pre processing\n",
    "scaler = StandardScaler()\n",
    "scaler.fit(X_train)\n",
    "X_train_scaled = scaler.transform(X_train)\n",
    "X_test_scaled = scaler.transform(X_test)"
   ]
  },
  {
   "cell_type": "code",
   "execution_count": 7,
   "id": "304162d3-950d-433d-aeaa-1d9230ef3a38",
   "metadata": {},
   "outputs": [
    {
     "name": "stderr",
     "output_type": "stream",
     "text": [
      "C:\\Users\\ishan\\AppData\\Local\\Programs\\Python\\Python39\\lib\\site-packages\\keras\\src\\layers\\core\\dense.py:86: UserWarning: Do not pass an `input_shape`/`input_dim` argument to a layer. When using Sequential models, prefer using an `Input(shape)` object as the first layer in the model instead.\n",
      "  super().__init__(activity_regularizer=activity_regularizer, **kwargs)\n",
      "C:\\Users\\ishan\\AppData\\Local\\Programs\\Python\\Python39\\lib\\site-packages\\keras\\src\\layers\\activations\\leaky_relu.py:41: UserWarning: Argument `alpha` is deprecated. Use `negative_slope` instead.\n",
      "  warnings.warn(\n"
     ]
    },
    {
     "data": {
      "text/html": [
       "<pre style=\"white-space:pre;overflow-x:auto;line-height:normal;font-family:Menlo,'DejaVu Sans Mono',consolas,'Courier New',monospace\"><span style=\"font-weight: bold\">Model: \"sequential\"</span>\n",
       "</pre>\n"
      ],
      "text/plain": [
       "\u001b[1mModel: \"sequential\"\u001b[0m\n"
      ]
     },
     "metadata": {},
     "output_type": "display_data"
    },
    {
     "data": {
      "text/html": [
       "<pre style=\"white-space:pre;overflow-x:auto;line-height:normal;font-family:Menlo,'DejaVu Sans Mono',consolas,'Courier New',monospace\">┏━━━━━━━━━━━━━━━━━━━━━━━━━━━━━━━━━━━━━━┳━━━━━━━━━━━━━━━━━━━━━━━━━━━━━┳━━━━━━━━━━━━━━━━━┓\n",
       "┃<span style=\"font-weight: bold\"> Layer (type)                         </span>┃<span style=\"font-weight: bold\"> Output Shape                </span>┃<span style=\"font-weight: bold\">         Param # </span>┃\n",
       "┡━━━━━━━━━━━━━━━━━━━━━━━━━━━━━━━━━━━━━━╇━━━━━━━━━━━━━━━━━━━━━━━━━━━━━╇━━━━━━━━━━━━━━━━━┩\n",
       "│ dense (<span style=\"color: #0087ff; text-decoration-color: #0087ff\">Dense</span>)                        │ (<span style=\"color: #00d7ff; text-decoration-color: #00d7ff\">None</span>, <span style=\"color: #00af00; text-decoration-color: #00af00\">128</span>)                 │           <span style=\"color: #00af00; text-decoration-color: #00af00\">4,352</span> │\n",
       "├──────────────────────────────────────┼─────────────────────────────┼─────────────────┤\n",
       "│ leaky_re_lu (<span style=\"color: #0087ff; text-decoration-color: #0087ff\">LeakyReLU</span>)              │ (<span style=\"color: #00d7ff; text-decoration-color: #00d7ff\">None</span>, <span style=\"color: #00af00; text-decoration-color: #00af00\">128</span>)                 │               <span style=\"color: #00af00; text-decoration-color: #00af00\">0</span> │\n",
       "├──────────────────────────────────────┼─────────────────────────────┼─────────────────┤\n",
       "│ dense_1 (<span style=\"color: #0087ff; text-decoration-color: #0087ff\">Dense</span>)                      │ (<span style=\"color: #00d7ff; text-decoration-color: #00d7ff\">None</span>, <span style=\"color: #00af00; text-decoration-color: #00af00\">64</span>)                  │           <span style=\"color: #00af00; text-decoration-color: #00af00\">8,256</span> │\n",
       "├──────────────────────────────────────┼─────────────────────────────┼─────────────────┤\n",
       "│ leaky_re_lu_1 (<span style=\"color: #0087ff; text-decoration-color: #0087ff\">LeakyReLU</span>)            │ (<span style=\"color: #00d7ff; text-decoration-color: #00d7ff\">None</span>, <span style=\"color: #00af00; text-decoration-color: #00af00\">64</span>)                  │               <span style=\"color: #00af00; text-decoration-color: #00af00\">0</span> │\n",
       "├──────────────────────────────────────┼─────────────────────────────┼─────────────────┤\n",
       "│ dense_2 (<span style=\"color: #0087ff; text-decoration-color: #0087ff\">Dense</span>)                      │ (<span style=\"color: #00d7ff; text-decoration-color: #00d7ff\">None</span>, <span style=\"color: #00af00; text-decoration-color: #00af00\">1</span>)                   │              <span style=\"color: #00af00; text-decoration-color: #00af00\">65</span> │\n",
       "└──────────────────────────────────────┴─────────────────────────────┴─────────────────┘\n",
       "</pre>\n"
      ],
      "text/plain": [
       "┏━━━━━━━━━━━━━━━━━━━━━━━━━━━━━━━━━━━━━━┳━━━━━━━━━━━━━━━━━━━━━━━━━━━━━┳━━━━━━━━━━━━━━━━━┓\n",
       "┃\u001b[1m \u001b[0m\u001b[1mLayer (type)                        \u001b[0m\u001b[1m \u001b[0m┃\u001b[1m \u001b[0m\u001b[1mOutput Shape               \u001b[0m\u001b[1m \u001b[0m┃\u001b[1m \u001b[0m\u001b[1m        Param #\u001b[0m\u001b[1m \u001b[0m┃\n",
       "┡━━━━━━━━━━━━━━━━━━━━━━━━━━━━━━━━━━━━━━╇━━━━━━━━━━━━━━━━━━━━━━━━━━━━━╇━━━━━━━━━━━━━━━━━┩\n",
       "│ dense (\u001b[38;5;33mDense\u001b[0m)                        │ (\u001b[38;5;45mNone\u001b[0m, \u001b[38;5;34m128\u001b[0m)                 │           \u001b[38;5;34m4,352\u001b[0m │\n",
       "├──────────────────────────────────────┼─────────────────────────────┼─────────────────┤\n",
       "│ leaky_re_lu (\u001b[38;5;33mLeakyReLU\u001b[0m)              │ (\u001b[38;5;45mNone\u001b[0m, \u001b[38;5;34m128\u001b[0m)                 │               \u001b[38;5;34m0\u001b[0m │\n",
       "├──────────────────────────────────────┼─────────────────────────────┼─────────────────┤\n",
       "│ dense_1 (\u001b[38;5;33mDense\u001b[0m)                      │ (\u001b[38;5;45mNone\u001b[0m, \u001b[38;5;34m64\u001b[0m)                  │           \u001b[38;5;34m8,256\u001b[0m │\n",
       "├──────────────────────────────────────┼─────────────────────────────┼─────────────────┤\n",
       "│ leaky_re_lu_1 (\u001b[38;5;33mLeakyReLU\u001b[0m)            │ (\u001b[38;5;45mNone\u001b[0m, \u001b[38;5;34m64\u001b[0m)                  │               \u001b[38;5;34m0\u001b[0m │\n",
       "├──────────────────────────────────────┼─────────────────────────────┼─────────────────┤\n",
       "│ dense_2 (\u001b[38;5;33mDense\u001b[0m)                      │ (\u001b[38;5;45mNone\u001b[0m, \u001b[38;5;34m1\u001b[0m)                   │              \u001b[38;5;34m65\u001b[0m │\n",
       "└──────────────────────────────────────┴─────────────────────────────┴─────────────────┘\n"
      ]
     },
     "metadata": {},
     "output_type": "display_data"
    },
    {
     "data": {
      "text/html": [
       "<pre style=\"white-space:pre;overflow-x:auto;line-height:normal;font-family:Menlo,'DejaVu Sans Mono',consolas,'Courier New',monospace\"><span style=\"font-weight: bold\"> Total params: </span><span style=\"color: #00af00; text-decoration-color: #00af00\">12,673</span> (49.50 KB)\n",
       "</pre>\n"
      ],
      "text/plain": [
       "\u001b[1m Total params: \u001b[0m\u001b[38;5;34m12,673\u001b[0m (49.50 KB)\n"
      ]
     },
     "metadata": {},
     "output_type": "display_data"
    },
    {
     "data": {
      "text/html": [
       "<pre style=\"white-space:pre;overflow-x:auto;line-height:normal;font-family:Menlo,'DejaVu Sans Mono',consolas,'Courier New',monospace\"><span style=\"font-weight: bold\"> Trainable params: </span><span style=\"color: #00af00; text-decoration-color: #00af00\">12,673</span> (49.50 KB)\n",
       "</pre>\n"
      ],
      "text/plain": [
       "\u001b[1m Trainable params: \u001b[0m\u001b[38;5;34m12,673\u001b[0m (49.50 KB)\n"
      ]
     },
     "metadata": {},
     "output_type": "display_data"
    },
    {
     "data": {
      "text/html": [
       "<pre style=\"white-space:pre;overflow-x:auto;line-height:normal;font-family:Menlo,'DejaVu Sans Mono',consolas,'Courier New',monospace\"><span style=\"font-weight: bold\"> Non-trainable params: </span><span style=\"color: #00af00; text-decoration-color: #00af00\">0</span> (0.00 B)\n",
       "</pre>\n"
      ],
      "text/plain": [
       "\u001b[1m Non-trainable params: \u001b[0m\u001b[38;5;34m0\u001b[0m (0.00 B)\n"
      ]
     },
     "metadata": {},
     "output_type": "display_data"
    }
   ],
   "source": [
    "#Instantiate our Neural Network. We will use 128 neurons for first layer and then 64. It is quite a big dataset so it makes sense\n",
    "model = Sequential()\n",
    "model.add(Dense(128, input_shape = [33]))\n",
    "#We will luse leaky relu due to the amount of negatives in our dataset. It is quite linear, so only a small alpha value is needed\n",
    "model.add(LeakyReLU(alpha=0.023))\n",
    "model.add(Dense(64))\n",
    "model.add(LeakyReLU(alpha=0.023))\n",
    "model.add(Dense(1))\n",
    "#Adam optimiser is perfecly fine for this case\n",
    "model.compile(loss='mean_squared_error', optimizer = 'adam' , metrics=['mae'])\n",
    "model.summary()\n",
    "    "
   ]
  },
  {
   "cell_type": "code",
   "execution_count": 8,
   "id": "b1f490d2-4d06-419f-b618-26b43de42a0d",
   "metadata": {},
   "outputs": [
    {
     "name": "stdout",
     "output_type": "stream",
     "text": [
      "Epoch 1/150\n",
      "\u001b[1m4503/4503\u001b[0m \u001b[32m━━━━━━━━━━━━━━━━━━━━\u001b[0m\u001b[37m\u001b[0m \u001b[1m4s\u001b[0m 735us/step - loss: 5.0733 - mae: 1.0784 - val_loss: 0.0135 - val_mae: 0.0809\n",
      "Epoch 2/150\n",
      "\u001b[1m4503/4503\u001b[0m \u001b[32m━━━━━━━━━━━━━━━━━━━━\u001b[0m\u001b[37m\u001b[0m \u001b[1m3s\u001b[0m 705us/step - loss: 0.0220 - mae: 0.0895 - val_loss: 0.0067 - val_mae: 0.0645\n",
      "Epoch 3/150\n",
      "\u001b[1m4503/4503\u001b[0m \u001b[32m━━━━━━━━━━━━━━━━━━━━\u001b[0m\u001b[37m\u001b[0m \u001b[1m3s\u001b[0m 708us/step - loss: 0.0054 - mae: 0.0497 - val_loss: 0.0043 - val_mae: 0.0402\n",
      "Epoch 4/150\n",
      "\u001b[1m4503/4503\u001b[0m \u001b[32m━━━━━━━━━━━━━━━━━━━━\u001b[0m\u001b[37m\u001b[0m \u001b[1m3s\u001b[0m 705us/step - loss: 0.0025 - mae: 0.0316 - val_loss: 0.0064 - val_mae: 0.0454\n",
      "Epoch 5/150\n",
      "\u001b[1m4503/4503\u001b[0m \u001b[32m━━━━━━━━━━━━━━━━━━━━\u001b[0m\u001b[37m\u001b[0m \u001b[1m3s\u001b[0m 710us/step - loss: 0.0029 - mae: 0.0310 - val_loss: 3.2711e-04 - val_mae: 0.0111\n",
      "Epoch 6/150\n",
      "\u001b[1m4503/4503\u001b[0m \u001b[32m━━━━━━━━━━━━━━━━━━━━\u001b[0m\u001b[37m\u001b[0m \u001b[1m3s\u001b[0m 699us/step - loss: 0.0015 - mae: 0.0218 - val_loss: 0.0020 - val_mae: 0.0334\n",
      "Epoch 7/150\n",
      "\u001b[1m4503/4503\u001b[0m \u001b[32m━━━━━━━━━━━━━━━━━━━━\u001b[0m\u001b[37m\u001b[0m \u001b[1m3s\u001b[0m 706us/step - loss: 0.0013 - mae: 0.0204 - val_loss: 1.1973e-04 - val_mae: 0.0066\n",
      "Epoch 8/150\n",
      "\u001b[1m4503/4503\u001b[0m \u001b[32m━━━━━━━━━━━━━━━━━━━━\u001b[0m\u001b[37m\u001b[0m \u001b[1m3s\u001b[0m 709us/step - loss: 0.0039 - mae: 0.0315 - val_loss: 1.0955e-04 - val_mae: 0.0068\n",
      "Epoch 9/150\n",
      "\u001b[1m4503/4503\u001b[0m \u001b[32m━━━━━━━━━━━━━━━━━━━━\u001b[0m\u001b[37m\u001b[0m \u001b[1m3s\u001b[0m 705us/step - loss: 0.0016 - mae: 0.0194 - val_loss: 2.1025e-04 - val_mae: 0.0090\n",
      "Epoch 10/150\n",
      "\u001b[1m4503/4503\u001b[0m \u001b[32m━━━━━━━━━━━━━━━━━━━━\u001b[0m\u001b[37m\u001b[0m \u001b[1m3s\u001b[0m 701us/step - loss: 0.0011 - mae: 0.0150 - val_loss: 5.7151e-04 - val_mae: 0.0178\n",
      "Epoch 11/150\n",
      "\u001b[1m4503/4503\u001b[0m \u001b[32m━━━━━━━━━━━━━━━━━━━━\u001b[0m\u001b[37m\u001b[0m \u001b[1m3s\u001b[0m 703us/step - loss: 8.0341e-04 - mae: 0.0153 - val_loss: 0.0925 - val_mae: 0.2164\n",
      "Epoch 12/150\n",
      "\u001b[1m4503/4503\u001b[0m \u001b[32m━━━━━━━━━━━━━━━━━━━━\u001b[0m\u001b[37m\u001b[0m \u001b[1m3s\u001b[0m 704us/step - loss: 0.0035 - mae: 0.0272 - val_loss: 7.6099e-04 - val_mae: 0.0107\n",
      "Epoch 13/150\n",
      "\u001b[1m4503/4503\u001b[0m \u001b[32m━━━━━━━━━━━━━━━━━━━━\u001b[0m\u001b[37m\u001b[0m \u001b[1m3s\u001b[0m 734us/step - loss: 9.1375e-04 - mae: 0.0158 - val_loss: 1.8596e-04 - val_mae: 0.0095\n",
      "Epoch 14/150\n",
      "\u001b[1m4503/4503\u001b[0m \u001b[32m━━━━━━━━━━━━━━━━━━━━\u001b[0m\u001b[37m\u001b[0m \u001b[1m3s\u001b[0m 718us/step - loss: 5.2792e-04 - mae: 0.0143 - val_loss: 8.4620e-04 - val_mae: 0.0107\n",
      "Epoch 15/150\n",
      "\u001b[1m4503/4503\u001b[0m \u001b[32m━━━━━━━━━━━━━━━━━━━━\u001b[0m\u001b[37m\u001b[0m \u001b[1m3s\u001b[0m 704us/step - loss: 5.1998e-04 - mae: 0.0119 - val_loss: 2.7841e-04 - val_mae: 0.0061\n",
      "Epoch 16/150\n",
      "\u001b[1m4503/4503\u001b[0m \u001b[32m━━━━━━━━━━━━━━━━━━━━\u001b[0m\u001b[37m\u001b[0m \u001b[1m3s\u001b[0m 718us/step - loss: 0.0012 - mae: 0.0162 - val_loss: 1.5467e-04 - val_mae: 0.0045\n",
      "Epoch 17/150\n",
      "\u001b[1m4503/4503\u001b[0m \u001b[32m━━━━━━━━━━━━━━━━━━━━\u001b[0m\u001b[37m\u001b[0m \u001b[1m3s\u001b[0m 729us/step - loss: 7.9450e-04 - mae: 0.0135 - val_loss: 0.0018 - val_mae: 0.0101\n",
      "Epoch 18/150\n",
      "\u001b[1m4503/4503\u001b[0m \u001b[32m━━━━━━━━━━━━━━━━━━━━\u001b[0m\u001b[37m\u001b[0m \u001b[1m3s\u001b[0m 716us/step - loss: 0.0010 - mae: 0.0152 - val_loss: 7.5068e-04 - val_mae: 0.0212\n",
      "Epoch 19/150\n",
      "\u001b[1m4503/4503\u001b[0m \u001b[32m━━━━━━━━━━━━━━━━━━━━\u001b[0m\u001b[37m\u001b[0m \u001b[1m3s\u001b[0m 710us/step - loss: 9.6323e-04 - mae: 0.0166 - val_loss: 9.0044e-05 - val_mae: 0.0051\n",
      "Epoch 20/150\n",
      "\u001b[1m4503/4503\u001b[0m \u001b[32m━━━━━━━━━━━━━━━━━━━━\u001b[0m\u001b[37m\u001b[0m \u001b[1m3s\u001b[0m 707us/step - loss: 4.3160e-04 - mae: 0.0103 - val_loss: 8.5450e-05 - val_mae: 0.0062\n",
      "Epoch 21/150\n",
      "\u001b[1m4503/4503\u001b[0m \u001b[32m━━━━━━━━━━━━━━━━━━━━\u001b[0m\u001b[37m\u001b[0m \u001b[1m3s\u001b[0m 704us/step - loss: 6.5851e-04 - mae: 0.0118 - val_loss: 1.2805e-04 - val_mae: 0.0083\n",
      "Epoch 22/150\n",
      "\u001b[1m4503/4503\u001b[0m \u001b[32m━━━━━━━━━━━━━━━━━━━━\u001b[0m\u001b[37m\u001b[0m \u001b[1m3s\u001b[0m 708us/step - loss: 0.0019 - mae: 0.0175 - val_loss: 5.1357e-04 - val_mae: 0.0160\n",
      "Epoch 23/150\n",
      "\u001b[1m4503/4503\u001b[0m \u001b[32m━━━━━━━━━━━━━━━━━━━━\u001b[0m\u001b[37m\u001b[0m \u001b[1m3s\u001b[0m 712us/step - loss: 6.2952e-04 - mae: 0.0118 - val_loss: 2.7696e-04 - val_mae: 0.0119\n",
      "Epoch 24/150\n",
      "\u001b[1m4503/4503\u001b[0m \u001b[32m━━━━━━━━━━━━━━━━━━━━\u001b[0m\u001b[37m\u001b[0m \u001b[1m3s\u001b[0m 702us/step - loss: 3.5370e-04 - mae: 0.0116 - val_loss: 5.9535e-04 - val_mae: 0.0181\n",
      "Epoch 25/150\n",
      "\u001b[1m4503/4503\u001b[0m \u001b[32m━━━━━━━━━━━━━━━━━━━━\u001b[0m\u001b[37m\u001b[0m \u001b[1m3s\u001b[0m 703us/step - loss: 5.2416e-04 - mae: 0.0122 - val_loss: 1.9304e-04 - val_mae: 0.0074\n",
      "Epoch 26/150\n",
      "\u001b[1m4503/4503\u001b[0m \u001b[32m━━━━━━━━━━━━━━━━━━━━\u001b[0m\u001b[37m\u001b[0m \u001b[1m3s\u001b[0m 711us/step - loss: 8.1193e-04 - mae: 0.0150 - val_loss: 2.0947e-04 - val_mae: 0.0077\n",
      "Epoch 27/150\n",
      "\u001b[1m4503/4503\u001b[0m \u001b[32m━━━━━━━━━━━━━━━━━━━━\u001b[0m\u001b[37m\u001b[0m \u001b[1m3s\u001b[0m 710us/step - loss: 0.0018 - mae: 0.0150 - val_loss: 0.0014 - val_mae: 0.0257\n",
      "Epoch 28/150\n",
      "\u001b[1m4503/4503\u001b[0m \u001b[32m━━━━━━━━━━━━━━━━━━━━\u001b[0m\u001b[37m\u001b[0m \u001b[1m3s\u001b[0m 711us/step - loss: 1.3433e-04 - mae: 0.0064 - val_loss: 1.9301e-04 - val_mae: 0.0065\n",
      "Epoch 29/150\n",
      "\u001b[1m4503/4503\u001b[0m \u001b[32m━━━━━━━━━━━━━━━━━━━━\u001b[0m\u001b[37m\u001b[0m \u001b[1m3s\u001b[0m 704us/step - loss: 2.7246e-04 - mae: 0.0083 - val_loss: 5.3123e-05 - val_mae: 0.0041\n",
      "Epoch 30/150\n",
      "\u001b[1m4503/4503\u001b[0m \u001b[32m━━━━━━━━━━━━━━━━━━━━\u001b[0m\u001b[37m\u001b[0m \u001b[1m3s\u001b[0m 714us/step - loss: 5.3245e-04 - mae: 0.0115 - val_loss: 9.9906e-05 - val_mae: 0.0046\n",
      "Epoch 31/150\n",
      "\u001b[1m4503/4503\u001b[0m \u001b[32m━━━━━━━━━━━━━━━━━━━━\u001b[0m\u001b[37m\u001b[0m \u001b[1m3s\u001b[0m 708us/step - loss: 1.9663e-04 - mae: 0.0079 - val_loss: 0.0024 - val_mae: 0.0437\n",
      "Epoch 32/150\n",
      "\u001b[1m4503/4503\u001b[0m \u001b[32m━━━━━━━━━━━━━━━━━━━━\u001b[0m\u001b[37m\u001b[0m \u001b[1m3s\u001b[0m 706us/step - loss: 4.1656e-04 - mae: 0.0114 - val_loss: 9.2299e-05 - val_mae: 0.0063\n",
      "Epoch 33/150\n",
      "\u001b[1m4503/4503\u001b[0m \u001b[32m━━━━━━━━━━━━━━━━━━━━\u001b[0m\u001b[37m\u001b[0m \u001b[1m3s\u001b[0m 709us/step - loss: 2.5931e-04 - mae: 0.0088 - val_loss: 0.0011 - val_mae: 0.0214\n",
      "Epoch 34/150\n",
      "\u001b[1m4503/4503\u001b[0m \u001b[32m━━━━━━━━━━━━━━━━━━━━\u001b[0m\u001b[37m\u001b[0m \u001b[1m3s\u001b[0m 696us/step - loss: 2.6421e-04 - mae: 0.0098 - val_loss: 3.8320e-05 - val_mae: 0.0040\n",
      "Epoch 35/150\n",
      "\u001b[1m4503/4503\u001b[0m \u001b[32m━━━━━━━━━━━━━━━━━━━━\u001b[0m\u001b[37m\u001b[0m \u001b[1m3s\u001b[0m 708us/step - loss: 5.9832e-04 - mae: 0.0108 - val_loss: 2.9804e-05 - val_mae: 0.0035\n",
      "Epoch 36/150\n",
      "\u001b[1m4503/4503\u001b[0m \u001b[32m━━━━━━━━━━━━━━━━━━━━\u001b[0m\u001b[37m\u001b[0m \u001b[1m3s\u001b[0m 710us/step - loss: 2.5826e-04 - mae: 0.0090 - val_loss: 0.0011 - val_mae: 0.0158\n",
      "Epoch 37/150\n",
      "\u001b[1m4503/4503\u001b[0m \u001b[32m━━━━━━━━━━━━━━━━━━━━\u001b[0m\u001b[37m\u001b[0m \u001b[1m3s\u001b[0m 710us/step - loss: 2.4730e-04 - mae: 0.0090 - val_loss: 2.4951e-04 - val_mae: 0.0082\n",
      "Epoch 38/150\n",
      "\u001b[1m4503/4503\u001b[0m \u001b[32m━━━━━━━━━━━━━━━━━━━━\u001b[0m\u001b[37m\u001b[0m \u001b[1m3s\u001b[0m 704us/step - loss: 7.7891e-04 - mae: 0.0114 - val_loss: 3.8193e-05 - val_mae: 0.0032\n",
      "Epoch 39/150\n",
      "\u001b[1m4503/4503\u001b[0m \u001b[32m━━━━━━━━━━━━━━━━━━━━\u001b[0m\u001b[37m\u001b[0m \u001b[1m3s\u001b[0m 716us/step - loss: 4.7080e-04 - mae: 0.0109 - val_loss: 2.5532e-04 - val_mae: 0.0133\n",
      "Epoch 40/150\n",
      "\u001b[1m4503/4503\u001b[0m \u001b[32m━━━━━━━━━━━━━━━━━━━━\u001b[0m\u001b[37m\u001b[0m \u001b[1m3s\u001b[0m 720us/step - loss: 2.2112e-04 - mae: 0.0084 - val_loss: 1.8759e-04 - val_mae: 0.0047\n",
      "Epoch 41/150\n",
      "\u001b[1m4503/4503\u001b[0m \u001b[32m━━━━━━━━━━━━━━━━━━━━\u001b[0m\u001b[37m\u001b[0m \u001b[1m3s\u001b[0m 716us/step - loss: 8.1337e-04 - mae: 0.0105 - val_loss: 1.5138e-04 - val_mae: 0.0070\n",
      "Epoch 42/150\n",
      "\u001b[1m4503/4503\u001b[0m \u001b[32m━━━━━━━━━━━━━━━━━━━━\u001b[0m\u001b[37m\u001b[0m \u001b[1m3s\u001b[0m 717us/step - loss: 3.8575e-04 - mae: 0.0102 - val_loss: 1.6438e-04 - val_mae: 0.0052\n",
      "Epoch 43/150\n",
      "\u001b[1m4503/4503\u001b[0m \u001b[32m━━━━━━━━━━━━━━━━━━━━\u001b[0m\u001b[37m\u001b[0m \u001b[1m3s\u001b[0m 711us/step - loss: 4.0878e-04 - mae: 0.0101 - val_loss: 5.6141e-04 - val_mae: 0.0146\n",
      "Epoch 44/150\n",
      "\u001b[1m4503/4503\u001b[0m \u001b[32m━━━━━━━━━━━━━━━━━━━━\u001b[0m\u001b[37m\u001b[0m \u001b[1m3s\u001b[0m 720us/step - loss: 3.5357e-04 - mae: 0.0106 - val_loss: 9.8811e-05 - val_mae: 0.0066\n",
      "Epoch 45/150\n",
      "\u001b[1m4503/4503\u001b[0m \u001b[32m━━━━━━━━━━━━━━━━━━━━\u001b[0m\u001b[37m\u001b[0m \u001b[1m3s\u001b[0m 712us/step - loss: 3.9874e-04 - mae: 0.0102 - val_loss: 3.8359e-05 - val_mae: 0.0041\n",
      "Epoch 46/150\n",
      "\u001b[1m4503/4503\u001b[0m \u001b[32m━━━━━━━━━━━━━━━━━━━━\u001b[0m\u001b[37m\u001b[0m \u001b[1m3s\u001b[0m 717us/step - loss: 2.3391e-04 - mae: 0.0085 - val_loss: 7.9303e-04 - val_mae: 0.0124\n",
      "Epoch 47/150\n",
      "\u001b[1m4503/4503\u001b[0m \u001b[32m━━━━━━━━━━━━━━━━━━━━\u001b[0m\u001b[37m\u001b[0m \u001b[1m3s\u001b[0m 710us/step - loss: 0.0014 - mae: 0.0101 - val_loss: 4.0596e-04 - val_mae: 0.0117\n",
      "Epoch 48/150\n",
      "\u001b[1m4503/4503\u001b[0m \u001b[32m━━━━━━━━━━━━━━━━━━━━\u001b[0m\u001b[37m\u001b[0m \u001b[1m3s\u001b[0m 711us/step - loss: 9.3127e-04 - mae: 0.0125 - val_loss: 2.0327e-04 - val_mae: 0.0075\n",
      "Epoch 49/150\n",
      "\u001b[1m4503/4503\u001b[0m \u001b[32m━━━━━━━━━━━━━━━━━━━━\u001b[0m\u001b[37m\u001b[0m \u001b[1m3s\u001b[0m 714us/step - loss: 1.8632e-04 - mae: 0.0077 - val_loss: 9.9601e-05 - val_mae: 0.0038\n",
      "Epoch 50/150\n",
      "\u001b[1m4503/4503\u001b[0m \u001b[32m━━━━━━━━━━━━━━━━━━━━\u001b[0m\u001b[37m\u001b[0m \u001b[1m3s\u001b[0m 708us/step - loss: 3.5940e-04 - mae: 0.0081 - val_loss: 3.5611e-04 - val_mae: 0.0058\n",
      "Epoch 51/150\n",
      "\u001b[1m4503/4503\u001b[0m \u001b[32m━━━━━━━━━━━━━━━━━━━━\u001b[0m\u001b[37m\u001b[0m \u001b[1m3s\u001b[0m 707us/step - loss: 2.8895e-04 - mae: 0.0087 - val_loss: 2.4732e-04 - val_mae: 0.0082\n",
      "Epoch 52/150\n",
      "\u001b[1m4503/4503\u001b[0m \u001b[32m━━━━━━━━━━━━━━━━━━━━\u001b[0m\u001b[37m\u001b[0m \u001b[1m3s\u001b[0m 704us/step - loss: 1.8910e-04 - mae: 0.0082 - val_loss: 1.7908e-04 - val_mae: 0.0096\n",
      "Epoch 53/150\n",
      "\u001b[1m4503/4503\u001b[0m \u001b[32m━━━━━━━━━━━━━━━━━━━━\u001b[0m\u001b[37m\u001b[0m \u001b[1m3s\u001b[0m 711us/step - loss: 3.3216e-04 - mae: 0.0090 - val_loss: 1.0358e-04 - val_mae: 0.0062\n",
      "Epoch 54/150\n",
      "\u001b[1m4503/4503\u001b[0m \u001b[32m━━━━━━━━━━━━━━━━━━━━\u001b[0m\u001b[37m\u001b[0m \u001b[1m3s\u001b[0m 710us/step - loss: 2.1386e-04 - mae: 0.0075 - val_loss: 7.7583e-05 - val_mae: 0.0059\n",
      "Epoch 55/150\n",
      "\u001b[1m4503/4503\u001b[0m \u001b[32m━━━━━━━━━━━━━━━━━━━━\u001b[0m\u001b[37m\u001b[0m \u001b[1m3s\u001b[0m 713us/step - loss: 2.2906e-04 - mae: 0.0081 - val_loss: 9.1584e-05 - val_mae: 0.0058\n",
      "Epoch 56/150\n",
      "\u001b[1m4503/4503\u001b[0m \u001b[32m━━━━━━━━━━━━━━━━━━━━\u001b[0m\u001b[37m\u001b[0m \u001b[1m3s\u001b[0m 743us/step - loss: 1.6777e-04 - mae: 0.0076 - val_loss: 1.2065e-04 - val_mae: 0.0078\n",
      "Epoch 57/150\n",
      "\u001b[1m4503/4503\u001b[0m \u001b[32m━━━━━━━━━━━━━━━━━━━━\u001b[0m\u001b[37m\u001b[0m \u001b[1m3s\u001b[0m 723us/step - loss: 2.1645e-04 - mae: 0.0086 - val_loss: 2.1824e-04 - val_mae: 0.0070\n",
      "Epoch 58/150\n",
      "\u001b[1m4503/4503\u001b[0m \u001b[32m━━━━━━━━━━━━━━━━━━━━\u001b[0m\u001b[37m\u001b[0m \u001b[1m3s\u001b[0m 753us/step - loss: 2.6790e-04 - mae: 0.0077 - val_loss: 6.8235e-04 - val_mae: 0.0081\n",
      "Epoch 59/150\n",
      "\u001b[1m4503/4503\u001b[0m \u001b[32m━━━━━━━━━━━━━━━━━━━━\u001b[0m\u001b[37m\u001b[0m \u001b[1m3s\u001b[0m 752us/step - loss: 3.6346e-04 - mae: 0.0092 - val_loss: 3.0499e-05 - val_mae: 0.0034\n",
      "Epoch 60/150\n",
      "\u001b[1m4503/4503\u001b[0m \u001b[32m━━━━━━━━━━━━━━━━━━━━\u001b[0m\u001b[37m\u001b[0m \u001b[1m3s\u001b[0m 738us/step - loss: 2.5948e-04 - mae: 0.0091 - val_loss: 1.8486e-04 - val_mae: 0.0100\n",
      "Epoch 61/150\n",
      "\u001b[1m4503/4503\u001b[0m \u001b[32m━━━━━━━━━━━━━━━━━━━━\u001b[0m\u001b[37m\u001b[0m \u001b[1m5s\u001b[0m 714us/step - loss: 2.7729e-04 - mae: 0.0090 - val_loss: 7.9693e-05 - val_mae: 0.0040\n",
      "Epoch 62/150\n",
      "\u001b[1m4503/4503\u001b[0m \u001b[32m━━━━━━━━━━━━━━━━━━━━\u001b[0m\u001b[37m\u001b[0m \u001b[1m3s\u001b[0m 713us/step - loss: 2.1380e-04 - mae: 0.0076 - val_loss: 5.9317e-05 - val_mae: 0.0057\n",
      "Epoch 63/150\n",
      "\u001b[1m4503/4503\u001b[0m \u001b[32m━━━━━━━━━━━━━━━━━━━━\u001b[0m\u001b[37m\u001b[0m \u001b[1m3s\u001b[0m 729us/step - loss: 5.5374e-04 - mae: 0.0088 - val_loss: 7.0935e-05 - val_mae: 0.0036\n",
      "Epoch 64/150\n",
      "\u001b[1m4503/4503\u001b[0m \u001b[32m━━━━━━━━━━━━━━━━━━━━\u001b[0m\u001b[37m\u001b[0m \u001b[1m3s\u001b[0m 717us/step - loss: 3.4330e-04 - mae: 0.0087 - val_loss: 3.0537e-05 - val_mae: 0.0037\n",
      "Epoch 65/150\n",
      "\u001b[1m4503/4503\u001b[0m \u001b[32m━━━━━━━━━━━━━━━━━━━━\u001b[0m\u001b[37m\u001b[0m \u001b[1m3s\u001b[0m 713us/step - loss: 2.6900e-04 - mae: 0.0082 - val_loss: 2.7319e-04 - val_mae: 0.0127\n",
      "Epoch 66/150\n",
      "\u001b[1m4503/4503\u001b[0m \u001b[32m━━━━━━━━━━━━━━━━━━━━\u001b[0m\u001b[37m\u001b[0m \u001b[1m3s\u001b[0m 717us/step - loss: 1.8055e-04 - mae: 0.0074 - val_loss: 1.2576e-04 - val_mae: 0.0064\n",
      "Epoch 67/150\n",
      "\u001b[1m4503/4503\u001b[0m \u001b[32m━━━━━━━━━━━━━━━━━━━━\u001b[0m\u001b[37m\u001b[0m \u001b[1m3s\u001b[0m 722us/step - loss: 1.9721e-04 - mae: 0.0068 - val_loss: 1.3956e-04 - val_mae: 0.0060\n",
      "Epoch 68/150\n",
      "\u001b[1m4503/4503\u001b[0m \u001b[32m━━━━━━━━━━━━━━━━━━━━\u001b[0m\u001b[37m\u001b[0m \u001b[1m3s\u001b[0m 732us/step - loss: 3.4218e-04 - mae: 0.0083 - val_loss: 6.7486e-05 - val_mae: 0.0053\n",
      "Epoch 69/150\n",
      "\u001b[1m4503/4503\u001b[0m \u001b[32m━━━━━━━━━━━━━━━━━━━━\u001b[0m\u001b[37m\u001b[0m \u001b[1m3s\u001b[0m 722us/step - loss: 2.6453e-04 - mae: 0.0081 - val_loss: 3.1750e-05 - val_mae: 0.0032\n",
      "Epoch 70/150\n",
      "\u001b[1m4503/4503\u001b[0m \u001b[32m━━━━━━━━━━━━━━━━━━━━\u001b[0m\u001b[37m\u001b[0m \u001b[1m3s\u001b[0m 718us/step - loss: 2.2021e-04 - mae: 0.0071 - val_loss: 1.2041e-04 - val_mae: 0.0055\n",
      "Epoch 71/150\n",
      "\u001b[1m4503/4503\u001b[0m \u001b[32m━━━━━━━━━━━━━━━━━━━━\u001b[0m\u001b[37m\u001b[0m \u001b[1m3s\u001b[0m 749us/step - loss: 0.0014 - mae: 0.0117 - val_loss: 1.4072e-04 - val_mae: 0.0072\n",
      "Epoch 72/150\n",
      "\u001b[1m4503/4503\u001b[0m \u001b[32m━━━━━━━━━━━━━━━━━━━━\u001b[0m\u001b[37m\u001b[0m \u001b[1m3s\u001b[0m 728us/step - loss: 2.1956e-04 - mae: 0.0084 - val_loss: 9.3002e-05 - val_mae: 0.0063\n",
      "Epoch 73/150\n",
      "\u001b[1m4503/4503\u001b[0m \u001b[32m━━━━━━━━━━━━━━━━━━━━\u001b[0m\u001b[37m\u001b[0m \u001b[1m3s\u001b[0m 728us/step - loss: 5.2393e-04 - mae: 0.0098 - val_loss: 2.1584e-04 - val_mae: 0.0084\n",
      "Epoch 74/150\n",
      "\u001b[1m4503/4503\u001b[0m \u001b[32m━━━━━━━━━━━━━━━━━━━━\u001b[0m\u001b[37m\u001b[0m \u001b[1m3s\u001b[0m 725us/step - loss: 2.9540e-04 - mae: 0.0078 - val_loss: 5.3112e-04 - val_mae: 0.0124\n",
      "Epoch 75/150\n",
      "\u001b[1m4503/4503\u001b[0m \u001b[32m━━━━━━━━━━━━━━━━━━━━\u001b[0m\u001b[37m\u001b[0m \u001b[1m3s\u001b[0m 728us/step - loss: 1.3147e-04 - mae: 0.0068 - val_loss: 7.0346e-05 - val_mae: 0.0049\n",
      "Epoch 76/150\n",
      "\u001b[1m4503/4503\u001b[0m \u001b[32m━━━━━━━━━━━━━━━━━━━━\u001b[0m\u001b[37m\u001b[0m \u001b[1m3s\u001b[0m 729us/step - loss: 1.7393e-04 - mae: 0.0071 - val_loss: 1.1408e-04 - val_mae: 0.0086\n",
      "Epoch 77/150\n",
      "\u001b[1m4503/4503\u001b[0m \u001b[32m━━━━━━━━━━━━━━━━━━━━\u001b[0m\u001b[37m\u001b[0m \u001b[1m3s\u001b[0m 723us/step - loss: 3.0102e-04 - mae: 0.0082 - val_loss: 6.6254e-05 - val_mae: 0.0044\n",
      "Epoch 78/150\n",
      "\u001b[1m4503/4503\u001b[0m \u001b[32m━━━━━━━━━━━━━━━━━━━━\u001b[0m\u001b[37m\u001b[0m \u001b[1m3s\u001b[0m 728us/step - loss: 3.0534e-04 - mae: 0.0081 - val_loss: 3.2782e-04 - val_mae: 0.0108\n",
      "Epoch 79/150\n",
      "\u001b[1m4503/4503\u001b[0m \u001b[32m━━━━━━━━━━━━━━━━━━━━\u001b[0m\u001b[37m\u001b[0m \u001b[1m3s\u001b[0m 724us/step - loss: 1.2928e-04 - mae: 0.0066 - val_loss: 7.3783e-05 - val_mae: 0.0045\n",
      "Epoch 80/150\n",
      "\u001b[1m4503/4503\u001b[0m \u001b[32m━━━━━━━━━━━━━━━━━━━━\u001b[0m\u001b[37m\u001b[0m \u001b[1m3s\u001b[0m 719us/step - loss: 4.4052e-04 - mae: 0.0069 - val_loss: 3.6702e-05 - val_mae: 0.0029\n",
      "Epoch 81/150\n",
      "\u001b[1m4503/4503\u001b[0m \u001b[32m━━━━━━━━━━━━━━━━━━━━\u001b[0m\u001b[37m\u001b[0m \u001b[1m3s\u001b[0m 729us/step - loss: 3.0977e-04 - mae: 0.0069 - val_loss: 7.8193e-05 - val_mae: 0.0043\n",
      "Epoch 82/150\n",
      "\u001b[1m4503/4503\u001b[0m \u001b[32m━━━━━━━━━━━━━━━━━━━━\u001b[0m\u001b[37m\u001b[0m \u001b[1m3s\u001b[0m 731us/step - loss: 1.4113e-04 - mae: 0.0064 - val_loss: 6.3325e-05 - val_mae: 0.0030\n",
      "Epoch 83/150\n",
      "\u001b[1m4503/4503\u001b[0m \u001b[32m━━━━━━━━━━━━━━━━━━━━\u001b[0m\u001b[37m\u001b[0m \u001b[1m3s\u001b[0m 726us/step - loss: 1.3756e-04 - mae: 0.0066 - val_loss: 0.0010 - val_mae: 0.0213\n",
      "Epoch 84/150\n",
      "\u001b[1m4503/4503\u001b[0m \u001b[32m━━━━━━━━━━━━━━━━━━━━\u001b[0m\u001b[37m\u001b[0m \u001b[1m3s\u001b[0m 725us/step - loss: 1.7126e-04 - mae: 0.0076 - val_loss: 4.7649e-05 - val_mae: 0.0040\n",
      "Epoch 85/150\n",
      "\u001b[1m4503/4503\u001b[0m \u001b[32m━━━━━━━━━━━━━━━━━━━━\u001b[0m\u001b[37m\u001b[0m \u001b[1m3s\u001b[0m 727us/step - loss: 7.1138e-04 - mae: 0.0104 - val_loss: 3.7897e-05 - val_mae: 0.0041\n",
      "Epoch 86/150\n",
      "\u001b[1m4503/4503\u001b[0m \u001b[32m━━━━━━━━━━━━━━━━━━━━\u001b[0m\u001b[37m\u001b[0m \u001b[1m3s\u001b[0m 726us/step - loss: 1.4795e-04 - mae: 0.0069 - val_loss: 1.2027e-04 - val_mae: 0.0088\n",
      "Epoch 87/150\n",
      "\u001b[1m4503/4503\u001b[0m \u001b[32m━━━━━━━━━━━━━━━━━━━━\u001b[0m\u001b[37m\u001b[0m \u001b[1m3s\u001b[0m 726us/step - loss: 3.6716e-04 - mae: 0.0091 - val_loss: 8.5305e-05 - val_mae: 0.0060\n",
      "Epoch 88/150\n",
      "\u001b[1m4503/4503\u001b[0m \u001b[32m━━━━━━━━━━━━━━━━━━━━\u001b[0m\u001b[37m\u001b[0m \u001b[1m3s\u001b[0m 731us/step - loss: 2.6991e-04 - mae: 0.0077 - val_loss: 1.7336e-04 - val_mae: 0.0101\n",
      "Epoch 89/150\n",
      "\u001b[1m4503/4503\u001b[0m \u001b[32m━━━━━━━━━━━━━━━━━━━━\u001b[0m\u001b[37m\u001b[0m \u001b[1m3s\u001b[0m 724us/step - loss: 9.3168e-04 - mae: 0.0084 - val_loss: 3.1328e-04 - val_mae: 0.0042\n",
      "Epoch 90/150\n",
      "\u001b[1m4503/4503\u001b[0m \u001b[32m━━━━━━━━━━━━━━━━━━━━\u001b[0m\u001b[37m\u001b[0m \u001b[1m3s\u001b[0m 732us/step - loss: 4.2124e-04 - mae: 0.0083 - val_loss: 6.2788e-05 - val_mae: 0.0052\n",
      "Epoch 91/150\n",
      "\u001b[1m4503/4503\u001b[0m \u001b[32m━━━━━━━━━━━━━━━━━━━━\u001b[0m\u001b[37m\u001b[0m \u001b[1m3s\u001b[0m 738us/step - loss: 1.5174e-04 - mae: 0.0070 - val_loss: 1.1773e-04 - val_mae: 0.0054\n",
      "Epoch 92/150\n",
      "\u001b[1m4503/4503\u001b[0m \u001b[32m━━━━━━━━━━━━━━━━━━━━\u001b[0m\u001b[37m\u001b[0m \u001b[1m3s\u001b[0m 725us/step - loss: 1.0812e-04 - mae: 0.0064 - val_loss: 2.6738e-04 - val_mae: 0.0093\n",
      "Epoch 93/150\n",
      "\u001b[1m4503/4503\u001b[0m \u001b[32m━━━━━━━━━━━━━━━━━━━━\u001b[0m\u001b[37m\u001b[0m \u001b[1m3s\u001b[0m 725us/step - loss: 6.9832e-04 - mae: 0.0090 - val_loss: 1.1748e-04 - val_mae: 0.0070\n",
      "Epoch 94/150\n",
      "\u001b[1m4503/4503\u001b[0m \u001b[32m━━━━━━━━━━━━━━━━━━━━\u001b[0m\u001b[37m\u001b[0m \u001b[1m3s\u001b[0m 727us/step - loss: 1.9888e-04 - mae: 0.0078 - val_loss: 1.9797e-04 - val_mae: 0.0051\n",
      "Epoch 95/150\n",
      "\u001b[1m4503/4503\u001b[0m \u001b[32m━━━━━━━━━━━━━━━━━━━━\u001b[0m\u001b[37m\u001b[0m \u001b[1m3s\u001b[0m 736us/step - loss: 2.4176e-04 - mae: 0.0075 - val_loss: 3.8629e-04 - val_mae: 0.0106\n",
      "Epoch 96/150\n",
      "\u001b[1m4503/4503\u001b[0m \u001b[32m━━━━━━━━━━━━━━━━━━━━\u001b[0m\u001b[37m\u001b[0m \u001b[1m3s\u001b[0m 737us/step - loss: 1.4798e-04 - mae: 0.0070 - val_loss: 0.0013 - val_mae: 0.0042\n",
      "Epoch 97/150\n",
      "\u001b[1m4503/4503\u001b[0m \u001b[32m━━━━━━━━━━━━━━━━━━━━\u001b[0m\u001b[37m\u001b[0m \u001b[1m3s\u001b[0m 730us/step - loss: 1.5761e-04 - mae: 0.0068 - val_loss: 2.1466e-04 - val_mae: 0.0125\n",
      "Epoch 98/150\n",
      "\u001b[1m4503/4503\u001b[0m \u001b[32m━━━━━━━━━━━━━━━━━━━━\u001b[0m\u001b[37m\u001b[0m \u001b[1m3s\u001b[0m 729us/step - loss: 1.0423e-04 - mae: 0.0066 - val_loss: 9.0191e-05 - val_mae: 0.0044\n",
      "Epoch 99/150\n",
      "\u001b[1m4503/4503\u001b[0m \u001b[32m━━━━━━━━━━━━━━━━━━━━\u001b[0m\u001b[37m\u001b[0m \u001b[1m3s\u001b[0m 734us/step - loss: 1.3580e-04 - mae: 0.0068 - val_loss: 2.0080e-04 - val_mae: 0.0037\n",
      "Epoch 100/150\n",
      "\u001b[1m4503/4503\u001b[0m \u001b[32m━━━━━━━━━━━━━━━━━━━━\u001b[0m\u001b[37m\u001b[0m \u001b[1m3s\u001b[0m 731us/step - loss: 1.3108e-04 - mae: 0.0064 - val_loss: 4.0233e-04 - val_mae: 0.0034\n",
      "Epoch 101/150\n",
      "\u001b[1m4503/4503\u001b[0m \u001b[32m━━━━━━━━━━━━━━━━━━━━\u001b[0m\u001b[37m\u001b[0m \u001b[1m3s\u001b[0m 735us/step - loss: 3.8896e-04 - mae: 0.0089 - val_loss: 5.0597e-05 - val_mae: 0.0044\n",
      "Epoch 102/150\n",
      "\u001b[1m4503/4503\u001b[0m \u001b[32m━━━━━━━━━━━━━━━━━━━━\u001b[0m\u001b[37m\u001b[0m \u001b[1m3s\u001b[0m 727us/step - loss: 1.6715e-04 - mae: 0.0078 - val_loss: 8.9515e-05 - val_mae: 0.0062\n",
      "Epoch 103/150\n",
      "\u001b[1m4503/4503\u001b[0m \u001b[32m━━━━━━━━━━━━━━━━━━━━\u001b[0m\u001b[37m\u001b[0m \u001b[1m3s\u001b[0m 734us/step - loss: 1.5192e-04 - mae: 0.0068 - val_loss: 6.6951e-05 - val_mae: 0.0049\n",
      "Epoch 104/150\n",
      "\u001b[1m4503/4503\u001b[0m \u001b[32m━━━━━━━━━━━━━━━━━━━━\u001b[0m\u001b[37m\u001b[0m \u001b[1m3s\u001b[0m 729us/step - loss: 3.2228e-04 - mae: 0.0082 - val_loss: 2.5420e-05 - val_mae: 0.0032\n",
      "Epoch 105/150\n",
      "\u001b[1m4503/4503\u001b[0m \u001b[32m━━━━━━━━━━━━━━━━━━━━\u001b[0m\u001b[37m\u001b[0m \u001b[1m3s\u001b[0m 732us/step - loss: 1.5650e-04 - mae: 0.0071 - val_loss: 4.8605e-05 - val_mae: 0.0044\n",
      "Epoch 106/150\n",
      "\u001b[1m4503/4503\u001b[0m \u001b[32m━━━━━━━━━━━━━━━━━━━━\u001b[0m\u001b[37m\u001b[0m \u001b[1m3s\u001b[0m 733us/step - loss: 8.0218e-05 - mae: 0.0060 - val_loss: 0.0163 - val_mae: 0.0082\n",
      "Epoch 107/150\n",
      "\u001b[1m4503/4503\u001b[0m \u001b[32m━━━━━━━━━━━━━━━━━━━━\u001b[0m\u001b[37m\u001b[0m \u001b[1m3s\u001b[0m 728us/step - loss: 3.3506e-04 - mae: 0.0069 - val_loss: 2.2414e-04 - val_mae: 0.0092\n",
      "Epoch 108/150\n",
      "\u001b[1m4503/4503\u001b[0m \u001b[32m━━━━━━━━━━━━━━━━━━━━\u001b[0m\u001b[37m\u001b[0m \u001b[1m3s\u001b[0m 735us/step - loss: 1.0643e-04 - mae: 0.0062 - val_loss: 5.9470e-04 - val_mae: 0.0167\n",
      "Epoch 109/150\n",
      "\u001b[1m4503/4503\u001b[0m \u001b[32m━━━━━━━━━━━━━━━━━━━━\u001b[0m\u001b[37m\u001b[0m \u001b[1m3s\u001b[0m 741us/step - loss: 1.3899e-04 - mae: 0.0063 - val_loss: 8.0301e-04 - val_mae: 0.0237\n",
      "Epoch 110/150\n",
      "\u001b[1m4503/4503\u001b[0m \u001b[32m━━━━━━━━━━━━━━━━━━━━\u001b[0m\u001b[37m\u001b[0m \u001b[1m3s\u001b[0m 740us/step - loss: 3.7508e-04 - mae: 0.0090 - val_loss: 1.2452e-04 - val_mae: 0.0074\n",
      "Epoch 111/150\n",
      "\u001b[1m4503/4503\u001b[0m \u001b[32m━━━━━━━━━━━━━━━━━━━━\u001b[0m\u001b[37m\u001b[0m \u001b[1m3s\u001b[0m 728us/step - loss: 0.0016 - mae: 0.0091 - val_loss: 1.3636e-04 - val_mae: 0.0056\n",
      "Epoch 112/150\n",
      "\u001b[1m4503/4503\u001b[0m \u001b[32m━━━━━━━━━━━━━━━━━━━━\u001b[0m\u001b[37m\u001b[0m \u001b[1m3s\u001b[0m 731us/step - loss: 1.0072e-04 - mae: 0.0062 - val_loss: 0.0034 - val_mae: 0.0378\n",
      "Epoch 113/150\n",
      "\u001b[1m4503/4503\u001b[0m \u001b[32m━━━━━━━━━━━━━━━━━━━━\u001b[0m\u001b[37m\u001b[0m \u001b[1m3s\u001b[0m 739us/step - loss: 4.3158e-04 - mae: 0.0093 - val_loss: 2.1140e-04 - val_mae: 0.0095\n",
      "Epoch 114/150\n",
      "\u001b[1m4503/4503\u001b[0m \u001b[32m━━━━━━━━━━━━━━━━━━━━\u001b[0m\u001b[37m\u001b[0m \u001b[1m3s\u001b[0m 735us/step - loss: 9.0661e-05 - mae: 0.0055 - val_loss: 4.3375e-04 - val_mae: 0.0075\n",
      "Epoch 115/150\n",
      "\u001b[1m4503/4503\u001b[0m \u001b[32m━━━━━━━━━━━━━━━━━━━━\u001b[0m\u001b[37m\u001b[0m \u001b[1m3s\u001b[0m 742us/step - loss: 7.8981e-04 - mae: 0.0082 - val_loss: 8.2582e-05 - val_mae: 0.0059\n",
      "Epoch 116/150\n",
      "\u001b[1m4503/4503\u001b[0m \u001b[32m━━━━━━━━━━━━━━━━━━━━\u001b[0m\u001b[37m\u001b[0m \u001b[1m3s\u001b[0m 730us/step - loss: 7.7904e-05 - mae: 0.0059 - val_loss: 3.4573e-05 - val_mae: 0.0032\n",
      "Epoch 117/150\n",
      "\u001b[1m4503/4503\u001b[0m \u001b[32m━━━━━━━━━━━━━━━━━━━━\u001b[0m\u001b[37m\u001b[0m \u001b[1m3s\u001b[0m 745us/step - loss: 1.2008e-04 - mae: 0.0061 - val_loss: 4.0979e-05 - val_mae: 0.0048\n",
      "Epoch 118/150\n",
      "\u001b[1m4503/4503\u001b[0m \u001b[32m━━━━━━━━━━━━━━━━━━━━\u001b[0m\u001b[37m\u001b[0m \u001b[1m3s\u001b[0m 739us/step - loss: 6.6528e-04 - mae: 0.0076 - val_loss: 5.5805e-05 - val_mae: 0.0045\n",
      "Epoch 119/150\n",
      "\u001b[1m4503/4503\u001b[0m \u001b[32m━━━━━━━━━━━━━━━━━━━━\u001b[0m\u001b[37m\u001b[0m \u001b[1m3s\u001b[0m 737us/step - loss: 1.3378e-04 - mae: 0.0065 - val_loss: 3.8813e-05 - val_mae: 0.0030\n",
      "Epoch 120/150\n",
      "\u001b[1m4503/4503\u001b[0m \u001b[32m━━━━━━━━━━━━━━━━━━━━\u001b[0m\u001b[37m\u001b[0m \u001b[1m3s\u001b[0m 729us/step - loss: 1.9774e-04 - mae: 0.0068 - val_loss: 0.0010 - val_mae: 0.0072\n",
      "Epoch 121/150\n",
      "\u001b[1m4503/4503\u001b[0m \u001b[32m━━━━━━━━━━━━━━━━━━━━\u001b[0m\u001b[37m\u001b[0m \u001b[1m3s\u001b[0m 740us/step - loss: 1.8030e-04 - mae: 0.0062 - val_loss: 4.4892e-05 - val_mae: 0.0038\n",
      "Epoch 122/150\n",
      "\u001b[1m4503/4503\u001b[0m \u001b[32m━━━━━━━━━━━━━━━━━━━━\u001b[0m\u001b[37m\u001b[0m \u001b[1m3s\u001b[0m 735us/step - loss: 2.0589e-04 - mae: 0.0066 - val_loss: 6.9246e-05 - val_mae: 0.0062\n",
      "Epoch 123/150\n",
      "\u001b[1m4503/4503\u001b[0m \u001b[32m━━━━━━━━━━━━━━━━━━━━\u001b[0m\u001b[37m\u001b[0m \u001b[1m3s\u001b[0m 743us/step - loss: 1.0275e-04 - mae: 0.0063 - val_loss: 4.5059e-05 - val_mae: 0.0047\n",
      "Epoch 124/150\n",
      "\u001b[1m4503/4503\u001b[0m \u001b[32m━━━━━━━━━━━━━━━━━━━━\u001b[0m\u001b[37m\u001b[0m \u001b[1m3s\u001b[0m 743us/step - loss: 1.1090e-04 - mae: 0.0060 - val_loss: 1.3227e-04 - val_mae: 0.0052\n",
      "Epoch 125/150\n",
      "\u001b[1m4503/4503\u001b[0m \u001b[32m━━━━━━━━━━━━━━━━━━━━\u001b[0m\u001b[37m\u001b[0m \u001b[1m3s\u001b[0m 734us/step - loss: 1.0265e-04 - mae: 0.0055 - val_loss: 2.6403e-04 - val_mae: 0.0057\n",
      "Epoch 126/150\n",
      "\u001b[1m4503/4503\u001b[0m \u001b[32m━━━━━━━━━━━━━━━━━━━━\u001b[0m\u001b[37m\u001b[0m \u001b[1m3s\u001b[0m 737us/step - loss: 0.0017 - mae: 0.0076 - val_loss: 9.3901e-05 - val_mae: 0.0048\n",
      "Epoch 127/150\n",
      "\u001b[1m4503/4503\u001b[0m \u001b[32m━━━━━━━━━━━━━━━━━━━━\u001b[0m\u001b[37m\u001b[0m \u001b[1m3s\u001b[0m 748us/step - loss: 7.4004e-05 - mae: 0.0053 - val_loss: 1.2081e-04 - val_mae: 0.0081\n",
      "Epoch 128/150\n",
      "\u001b[1m4503/4503\u001b[0m \u001b[32m━━━━━━━━━━━━━━━━━━━━\u001b[0m\u001b[37m\u001b[0m \u001b[1m3s\u001b[0m 738us/step - loss: 7.3476e-05 - mae: 0.0054 - val_loss: 1.1303e-04 - val_mae: 0.0070\n",
      "Epoch 129/150\n",
      "\u001b[1m4503/4503\u001b[0m \u001b[32m━━━━━━━━━━━━━━━━━━━━\u001b[0m\u001b[37m\u001b[0m \u001b[1m3s\u001b[0m 744us/step - loss: 2.1827e-04 - mae: 0.0063 - val_loss: 3.9471e-05 - val_mae: 0.0034\n",
      "Epoch 130/150\n",
      "\u001b[1m4503/4503\u001b[0m \u001b[32m━━━━━━━━━━━━━━━━━━━━\u001b[0m\u001b[37m\u001b[0m \u001b[1m3s\u001b[0m 736us/step - loss: 2.4956e-04 - mae: 0.0065 - val_loss: 4.5362e-05 - val_mae: 0.0054\n",
      "Epoch 131/150\n",
      "\u001b[1m4503/4503\u001b[0m \u001b[32m━━━━━━━━━━━━━━━━━━━━\u001b[0m\u001b[37m\u001b[0m \u001b[1m3s\u001b[0m 738us/step - loss: 1.2954e-04 - mae: 0.0064 - val_loss: 7.7191e-05 - val_mae: 0.0053\n",
      "Epoch 132/150\n",
      "\u001b[1m4503/4503\u001b[0m \u001b[32m━━━━━━━━━━━━━━━━━━━━\u001b[0m\u001b[37m\u001b[0m \u001b[1m3s\u001b[0m 739us/step - loss: 1.1935e-04 - mae: 0.0060 - val_loss: 4.2914e-05 - val_mae: 0.0042\n",
      "Epoch 133/150\n",
      "\u001b[1m4503/4503\u001b[0m \u001b[32m━━━━━━━━━━━━━━━━━━━━\u001b[0m\u001b[37m\u001b[0m \u001b[1m3s\u001b[0m 746us/step - loss: 1.4560e-04 - mae: 0.0056 - val_loss: 0.0038 - val_mae: 0.0294\n",
      "Epoch 134/150\n",
      "\u001b[1m4503/4503\u001b[0m \u001b[32m━━━━━━━━━━━━━━━━━━━━\u001b[0m\u001b[37m\u001b[0m \u001b[1m3s\u001b[0m 737us/step - loss: 0.0024 - mae: 0.0108 - val_loss: 3.7968e-05 - val_mae: 0.0038\n",
      "Epoch 135/150\n",
      "\u001b[1m4503/4503\u001b[0m \u001b[32m━━━━━━━━━━━━━━━━━━━━\u001b[0m\u001b[37m\u001b[0m \u001b[1m3s\u001b[0m 747us/step - loss: 8.1468e-05 - mae: 0.0051 - val_loss: 3.0846e-04 - val_mae: 0.0080\n",
      "Epoch 136/150\n",
      "\u001b[1m4503/4503\u001b[0m \u001b[32m━━━━━━━━━━━━━━━━━━━━\u001b[0m\u001b[37m\u001b[0m \u001b[1m3s\u001b[0m 748us/step - loss: 1.0904e-04 - mae: 0.0055 - val_loss: 3.7117e-05 - val_mae: 0.0042\n",
      "Epoch 137/150\n",
      "\u001b[1m4503/4503\u001b[0m \u001b[32m━━━━━━━━━━━━━━━━━━━━\u001b[0m\u001b[37m\u001b[0m \u001b[1m3s\u001b[0m 748us/step - loss: 1.0084e-04 - mae: 0.0058 - val_loss: 2.8036e-04 - val_mae: 0.0062\n",
      "Epoch 138/150\n",
      "\u001b[1m4503/4503\u001b[0m \u001b[32m━━━━━━━━━━━━━━━━━━━━\u001b[0m\u001b[37m\u001b[0m \u001b[1m3s\u001b[0m 742us/step - loss: 2.7139e-04 - mae: 0.0069 - val_loss: 7.2844e-05 - val_mae: 0.0049\n",
      "Epoch 139/150\n",
      "\u001b[1m4503/4503\u001b[0m \u001b[32m━━━━━━━━━━━━━━━━━━━━\u001b[0m\u001b[37m\u001b[0m \u001b[1m3s\u001b[0m 740us/step - loss: 2.0846e-04 - mae: 0.0060 - val_loss: 3.5312e-05 - val_mae: 0.0041\n",
      "Epoch 140/150\n",
      "\u001b[1m4503/4503\u001b[0m \u001b[32m━━━━━━━━━━━━━━━━━━━━\u001b[0m\u001b[37m\u001b[0m \u001b[1m3s\u001b[0m 748us/step - loss: 1.4091e-04 - mae: 0.0064 - val_loss: 7.2645e-04 - val_mae: 0.0188\n",
      "Epoch 141/150\n",
      "\u001b[1m4503/4503\u001b[0m \u001b[32m━━━━━━━━━━━━━━━━━━━━\u001b[0m\u001b[37m\u001b[0m \u001b[1m3s\u001b[0m 751us/step - loss: 1.5573e-04 - mae: 0.0067 - val_loss: 3.9134e-05 - val_mae: 0.0031\n",
      "Epoch 142/150\n",
      "\u001b[1m4503/4503\u001b[0m \u001b[32m━━━━━━━━━━━━━━━━━━━━\u001b[0m\u001b[37m\u001b[0m \u001b[1m3s\u001b[0m 746us/step - loss: 5.4523e-04 - mae: 0.0094 - val_loss: 1.7273e-04 - val_mae: 0.0049\n",
      "Epoch 143/150\n",
      "\u001b[1m4503/4503\u001b[0m \u001b[32m━━━━━━━━━━━━━━━━━━━━\u001b[0m\u001b[37m\u001b[0m \u001b[1m3s\u001b[0m 762us/step - loss: 2.2445e-04 - mae: 0.0074 - val_loss: 0.0017 - val_mae: 0.0076\n",
      "Epoch 144/150\n",
      "\u001b[1m4503/4503\u001b[0m \u001b[32m━━━━━━━━━━━━━━━━━━━━\u001b[0m\u001b[37m\u001b[0m \u001b[1m3s\u001b[0m 752us/step - loss: 1.2239e-04 - mae: 0.0059 - val_loss: 1.5989e-04 - val_mae: 0.0050\n",
      "Epoch 145/150\n",
      "\u001b[1m4503/4503\u001b[0m \u001b[32m━━━━━━━━━━━━━━━━━━━━\u001b[0m\u001b[37m\u001b[0m \u001b[1m3s\u001b[0m 751us/step - loss: 5.0577e-04 - mae: 0.0058 - val_loss: 2.8063e-04 - val_mae: 0.0071\n",
      "Epoch 146/150\n",
      "\u001b[1m4503/4503\u001b[0m \u001b[32m━━━━━━━━━━━━━━━━━━━━\u001b[0m\u001b[37m\u001b[0m \u001b[1m3s\u001b[0m 749us/step - loss: 1.3675e-04 - mae: 0.0059 - val_loss: 3.8964e-04 - val_mae: 0.0115\n",
      "Epoch 147/150\n",
      "\u001b[1m4503/4503\u001b[0m \u001b[32m━━━━━━━━━━━━━━━━━━━━\u001b[0m\u001b[37m\u001b[0m \u001b[1m3s\u001b[0m 745us/step - loss: 1.1755e-04 - mae: 0.0066 - val_loss: 1.6352e-04 - val_mae: 0.0051\n",
      "Epoch 148/150\n",
      "\u001b[1m4503/4503\u001b[0m \u001b[32m━━━━━━━━━━━━━━━━━━━━\u001b[0m\u001b[37m\u001b[0m \u001b[1m3s\u001b[0m 749us/step - loss: 1.4495e-04 - mae: 0.0062 - val_loss: 3.7557e-05 - val_mae: 0.0041\n",
      "Epoch 149/150\n",
      "\u001b[1m4503/4503\u001b[0m \u001b[32m━━━━━━━━━━━━━━━━━━━━\u001b[0m\u001b[37m\u001b[0m \u001b[1m3s\u001b[0m 749us/step - loss: 8.0520e-05 - mae: 0.0048 - val_loss: 3.0026e-05 - val_mae: 0.0031\n",
      "Epoch 150/150\n",
      "\u001b[1m4503/4503\u001b[0m \u001b[32m━━━━━━━━━━━━━━━━━━━━\u001b[0m\u001b[37m\u001b[0m \u001b[1m3s\u001b[0m 760us/step - loss: 1.5399e-04 - mae: 0.0063 - val_loss: 1.0375e-04 - val_mae: 0.0077\n"
     ]
    },
    {
     "data": {
      "text/plain": [
       "<keras.src.callbacks.history.History at 0x1f8172b3eb0>"
      ]
     },
     "execution_count": 8,
     "metadata": {},
     "output_type": "execute_result"
    }
   ],
   "source": [
    "#Fitting the data\n",
    "model.fit(X_train_scaled, y_train, validation_split = 0.2, epochs = 150)"
   ]
  },
  {
   "cell_type": "code",
   "execution_count": 9,
   "id": "f3e07d7a-bb1e-4744-a079-5312a00d3145",
   "metadata": {},
   "outputs": [
    {
     "name": "stdout",
     "output_type": "stream",
     "text": [
      "\u001b[1m2413/2413\u001b[0m \u001b[32m━━━━━━━━━━━━━━━━━━━━\u001b[0m\u001b[37m\u001b[0m \u001b[1m1s\u001b[0m 431us/step\n"
     ]
    }
   ],
   "source": [
    "#Prediction the data\n",
    "y_pred_test = model.predict(X_test_scaled)"
   ]
  },
  {
   "cell_type": "code",
   "execution_count": 10,
   "id": "104d6f24-ef09-4fd5-a49c-73ee9814891d",
   "metadata": {},
   "outputs": [
    {
     "data": {
      "image/png": "[encoded data removed]",
      "text/plain": [
       "<Figure size 640x480 with 1 Axes>"
      ]
     },
     "metadata": {},
     "output_type": "display_data"
    }
   ],
   "source": [
    "#Graph prediction\n",
    "plt.scatter(y_test, y_pred_test)\n",
    "plt.xlabel(\"Actual brightness\")\n",
    "plt.ylabel(\"Predicted brightness\")\n",
    "plt.show()"
   ]
  },
  {
   "cell_type": "code",
   "execution_count": 11,
   "id": "934aa2ad-a063-409e-a9d9-41db1ec1ae52",
   "metadata": {},
   "outputs": [
    {
     "data": {
      "text/plain": [
       "0.0007045675951225664"
      ]
     },
     "execution_count": 11,
     "metadata": {},
     "output_type": "execute_result"
    }
   ],
   "source": [
    "#loss functions (we dont get much loss)\n",
    "MSE = mean_squared_error(y_test, y_pred_test)\n",
    "MAE = mean_absolute_error(y_test, y_pred_test)\n",
    "MAPE = mean_absolute_percentage_error(y_test, y_pred_test)\n",
    "MAPE"
   ]
  },
  {
   "cell_type": "code",
   "execution_count": 12,
   "id": "028ab6b1-facd-47b6-beb4-5298d40bf25c",
   "metadata": {},
   "outputs": [
    {
     "data": {
      "text/plain": [
       "0.9998887240733143"
      ]
     },
     "execution_count": 12,
     "metadata": {},
     "output_type": "execute_result"
    }
   ],
   "source": [
    "#Applied science part. Our null hypothesis is that the observed and expected frequencies have NO SIGNIFICANT DIFFERENCE\n",
    "#Pearson's correlation test\n",
    "r2_score(y_test, y_pred_test)\n",
    "#The high correlation means the prediction and the actual frequencies are similar, which is what we want. Hence we accept the null hypothesis\n",
    "#This is quite a high R^2 score."
   ]
  },
  {
   "cell_type": "code",
   "execution_count": 13,
   "id": "6ec6cb85-b8e1-41c4-8d91-ef195491bc4b",
   "metadata": {},
   "outputs": [
    {
     "data": {
      "text/plain": [
       "0.9985550859231891"
      ]
     },
     "execution_count": 13,
     "metadata": {},
     "output_type": "execute_result"
    }
   ],
   "source": [
    "#The F test\n",
    "F = (np.var(y_pred_test))/(np.var(y_test))\n",
    "F"
   ]
  },
  {
   "cell_type": "code",
   "execution_count": 14,
   "id": "aa9e6059-07cc-4c56-bb2b-afdecd225a43",
   "metadata": {},
   "outputs": [
    {
     "data": {
      "text/plain": [
       "0.5016188903893879"
      ]
     },
     "execution_count": 14,
     "metadata": {},
     "output_type": "execute_result"
    }
   ],
   "source": [
    "#P value (Assuming a two tailed test with alpha = 0.05, confidence interval = 0.95\n",
    "p_value = stats.f.sf(F, 32, 32)\n",
    "p_value\n",
    "#Since our p value is greater than our alpha value, we can reject our alternate hypothesis, as the outputs are NOT significantly different. This works the other way around for our F test"
   ]
  }
 ],
 "metadata": {
  "kernelspec": {
   "display_name": "Python 3 (ipykernel)",
   "language": "python",
   "name": "python3"
  },
  "language_info": {
   "codemirror_mode": {
    "name": "ipython",
    "version": 3
   },
   "file_extension": ".py",
   "mimetype": "text/x-python",
   "name": "python",
   "nbconvert_exporter": "python",
   "pygments_lexer": "ipython3",
   "version": "3.9.13"
  }
 },
 "nbformat": 4,
 "nbformat_minor": 5
}
