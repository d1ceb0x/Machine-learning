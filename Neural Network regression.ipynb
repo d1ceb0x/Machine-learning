{
 "cells": [
  {
   "cell_type": "code",
   "execution_count": 102,
   "id": "1276dff5-3a9b-4172-bbbf-d2e859287183",
   "metadata": {},
   "outputs": [],
   "source": [
    "#My imports\n",
    "import numpy as np\n",
    "import pandas as pd\n",
    "import matplotlib.pyplot as plt\n",
    "import tensorflow as tf\n",
    "from tensorflow import keras\n",
    "from tensorflow.keras.layers import LeakyReLU\n",
    "from tensorflow.keras.optimizers import RMSprop\n",
    "from tensorflow.keras.models import Sequential\n",
    "from scikeras.wrappers import KerasRegressor\n",
    "from tensorflow.keras.layers import Activation, Dense\n",
    "from sklearn.model_selection import cross_val_score\n",
    "from sklearn.model_selection import KFold\n",
    "from sklearn.pipeline import Pipeline\n",
    "from sklearn.model_selection import train_test_split\n",
    "from sklearn.metrics import r2_score\n",
    "from sklearn.metrics import classification_report\n",
    "from sklearn.metrics import root_mean_squared_log_error\n",
    "from sklearn.metrics import mean_absolute_error\n",
    "from sklearn.metrics import mean_squared_error\n",
    "from sklearn.metrics import mean_absolute_percentage_error\n",
    "from sklearn.metrics import root_mean_squared_log_error\n",
    "from sklearn.metrics import root_mean_squared_error\n",
    "import scipy.stats as stats"
   ]
  },
  {
   "cell_type": "code",
   "execution_count": 103,
   "id": "9b943676-8521-46c8-bd56-999a872dcd63",
   "metadata": {},
   "outputs": [],
   "source": [
    "#read in the data\n",
    "df = pd.read_csv('257k-gaiadr2-sources-with-photometry.csv')"
   ]
  },
  {
   "cell_type": "code",
   "execution_count": 104,
   "id": "62032b21-8ea1-440c-8a5e-0200bbe0494c",
   "metadata": {},
   "outputs": [],
   "source": [
    "#Drop irrelevant columns\n",
    "X = df.drop(columns=[\"phot_g_mean_mag\", \"tycho2_id\", \"source_id\"])"
   ]
  },
  {
   "cell_type": "code",
   "execution_count": 105,
   "id": "02a32012-61af-4013-bd25-488cfdb9ea34",
   "metadata": {},
   "outputs": [],
   "source": [
    "#Prediction vector\n",
    "y = df['phot_g_mean_mag']"
   ]
  },
  {
   "cell_type": "code",
   "execution_count": 106,
   "id": "2fb603c0-76f1-4834-8d20-134c0a480177",
   "metadata": {},
   "outputs": [],
   "source": [
    "#Splitting data into train, test\n",
    "from sklearn.preprocessing import StandardScaler\n",
    "X_train, X_test, y_train, y_test = train_test_split(X, y, test_size = 0.3, random_state=0)"
   ]
  },
  {
   "cell_type": "code",
   "execution_count": 107,
   "id": "3333ffe8-1971-4822-982c-6371e253e724",
   "metadata": {},
   "outputs": [],
   "source": [
    "#Time for scaling and pre processing\n",
    "scaler = StandardScaler()\n",
    "scaler.fit(X_train)\n",
    "X_train_scaled = scaler.transform(X_train)\n",
    "X_test_scaled = scaler.transform(X_test)"
   ]
  },
  {
   "cell_type": "code",
   "execution_count": 108,
   "id": "304162d3-950d-433d-aeaa-1d9230ef3a38",
   "metadata": {},
   "outputs": [
    {
     "name": "stderr",
     "output_type": "stream",
     "text": [
      "C:\\Users\\ishan\\AppData\\Local\\Programs\\Python\\Python39\\lib\\site-packages\\keras\\src\\layers\\core\\dense.py:86: UserWarning: Do not pass an `input_shape`/`input_dim` argument to a layer. When using Sequential models, prefer using an `Input(shape)` object as the first layer in the model instead.\n",
      "  super().__init__(activity_regularizer=activity_regularizer, **kwargs)\n",
      "C:\\Users\\ishan\\AppData\\Local\\Programs\\Python\\Python39\\lib\\site-packages\\keras\\src\\layers\\activations\\leaky_relu.py:41: UserWarning: Argument `alpha` is deprecated. Use `negative_slope` instead.\n",
      "  warnings.warn(\n"
     ]
    },
    {
     "data": {
      "text/html": [
       "<pre style=\"white-space:pre;overflow-x:auto;line-height:normal;font-family:Menlo,'DejaVu Sans Mono',consolas,'Courier New',monospace\"><span style=\"font-weight: bold\">Model: \"sequential_12\"</span>\n",
       "</pre>\n"
      ],
      "text/plain": [
       "\u001b[1mModel: \"sequential_12\"\u001b[0m\n"
      ]
     },
     "metadata": {},
     "output_type": "display_data"
    },
    {
     "data": {
      "text/html": [
       "<pre style=\"white-space:pre;overflow-x:auto;line-height:normal;font-family:Menlo,'DejaVu Sans Mono',consolas,'Courier New',monospace\">┏━━━━━━━━━━━━━━━━━━━━━━━━━━━━━━━━━━━━━━┳━━━━━━━━━━━━━━━━━━━━━━━━━━━━━┳━━━━━━━━━━━━━━━━━┓\n",
       "┃<span style=\"font-weight: bold\"> Layer (type)                         </span>┃<span style=\"font-weight: bold\"> Output Shape                </span>┃<span style=\"font-weight: bold\">         Param # </span>┃\n",
       "┡━━━━━━━━━━━━━━━━━━━━━━━━━━━━━━━━━━━━━━╇━━━━━━━━━━━━━━━━━━━━━━━━━━━━━╇━━━━━━━━━━━━━━━━━┩\n",
       "│ dense_30 (<span style=\"color: #0087ff; text-decoration-color: #0087ff\">Dense</span>)                     │ (<span style=\"color: #00d7ff; text-decoration-color: #00d7ff\">None</span>, <span style=\"color: #00af00; text-decoration-color: #00af00\">128</span>)                 │           <span style=\"color: #00af00; text-decoration-color: #00af00\">4,352</span> │\n",
       "├──────────────────────────────────────┼─────────────────────────────┼─────────────────┤\n",
       "│ leaky_re_lu_20 (<span style=\"color: #0087ff; text-decoration-color: #0087ff\">LeakyReLU</span>)           │ (<span style=\"color: #00d7ff; text-decoration-color: #00d7ff\">None</span>, <span style=\"color: #00af00; text-decoration-color: #00af00\">128</span>)                 │               <span style=\"color: #00af00; text-decoration-color: #00af00\">0</span> │\n",
       "├──────────────────────────────────────┼─────────────────────────────┼─────────────────┤\n",
       "│ dense_31 (<span style=\"color: #0087ff; text-decoration-color: #0087ff\">Dense</span>)                     │ (<span style=\"color: #00d7ff; text-decoration-color: #00d7ff\">None</span>, <span style=\"color: #00af00; text-decoration-color: #00af00\">64</span>)                  │           <span style=\"color: #00af00; text-decoration-color: #00af00\">8,256</span> │\n",
       "├──────────────────────────────────────┼─────────────────────────────┼─────────────────┤\n",
       "│ leaky_re_lu_21 (<span style=\"color: #0087ff; text-decoration-color: #0087ff\">LeakyReLU</span>)           │ (<span style=\"color: #00d7ff; text-decoration-color: #00d7ff\">None</span>, <span style=\"color: #00af00; text-decoration-color: #00af00\">64</span>)                  │               <span style=\"color: #00af00; text-decoration-color: #00af00\">0</span> │\n",
       "├──────────────────────────────────────┼─────────────────────────────┼─────────────────┤\n",
       "│ dense_32 (<span style=\"color: #0087ff; text-decoration-color: #0087ff\">Dense</span>)                     │ (<span style=\"color: #00d7ff; text-decoration-color: #00d7ff\">None</span>, <span style=\"color: #00af00; text-decoration-color: #00af00\">1</span>)                   │              <span style=\"color: #00af00; text-decoration-color: #00af00\">65</span> │\n",
       "└──────────────────────────────────────┴─────────────────────────────┴─────────────────┘\n",
       "</pre>\n"
      ],
      "text/plain": [
       "┏━━━━━━━━━━━━━━━━━━━━━━━━━━━━━━━━━━━━━━┳━━━━━━━━━━━━━━━━━━━━━━━━━━━━━┳━━━━━━━━━━━━━━━━━┓\n",
       "┃\u001b[1m \u001b[0m\u001b[1mLayer (type)                        \u001b[0m\u001b[1m \u001b[0m┃\u001b[1m \u001b[0m\u001b[1mOutput Shape               \u001b[0m\u001b[1m \u001b[0m┃\u001b[1m \u001b[0m\u001b[1m        Param #\u001b[0m\u001b[1m \u001b[0m┃\n",
       "┡━━━━━━━━━━━━━━━━━━━━━━━━━━━━━━━━━━━━━━╇━━━━━━━━━━━━━━━━━━━━━━━━━━━━━╇━━━━━━━━━━━━━━━━━┩\n",
       "│ dense_30 (\u001b[38;5;33mDense\u001b[0m)                     │ (\u001b[38;5;45mNone\u001b[0m, \u001b[38;5;34m128\u001b[0m)                 │           \u001b[38;5;34m4,352\u001b[0m │\n",
       "├──────────────────────────────────────┼─────────────────────────────┼─────────────────┤\n",
       "│ leaky_re_lu_20 (\u001b[38;5;33mLeakyReLU\u001b[0m)           │ (\u001b[38;5;45mNone\u001b[0m, \u001b[38;5;34m128\u001b[0m)                 │               \u001b[38;5;34m0\u001b[0m │\n",
       "├──────────────────────────────────────┼─────────────────────────────┼─────────────────┤\n",
       "│ dense_31 (\u001b[38;5;33mDense\u001b[0m)                     │ (\u001b[38;5;45mNone\u001b[0m, \u001b[38;5;34m64\u001b[0m)                  │           \u001b[38;5;34m8,256\u001b[0m │\n",
       "├──────────────────────────────────────┼─────────────────────────────┼─────────────────┤\n",
       "│ leaky_re_lu_21 (\u001b[38;5;33mLeakyReLU\u001b[0m)           │ (\u001b[38;5;45mNone\u001b[0m, \u001b[38;5;34m64\u001b[0m)                  │               \u001b[38;5;34m0\u001b[0m │\n",
       "├──────────────────────────────────────┼─────────────────────────────┼─────────────────┤\n",
       "│ dense_32 (\u001b[38;5;33mDense\u001b[0m)                     │ (\u001b[38;5;45mNone\u001b[0m, \u001b[38;5;34m1\u001b[0m)                   │              \u001b[38;5;34m65\u001b[0m │\n",
       "└──────────────────────────────────────┴─────────────────────────────┴─────────────────┘\n"
      ]
     },
     "metadata": {},
     "output_type": "display_data"
    },
    {
     "data": {
      "text/html": [
       "<pre style=\"white-space:pre;overflow-x:auto;line-height:normal;font-family:Menlo,'DejaVu Sans Mono',consolas,'Courier New',monospace\"><span style=\"font-weight: bold\"> Total params: </span><span style=\"color: #00af00; text-decoration-color: #00af00\">12,673</span> (49.50 KB)\n",
       "</pre>\n"
      ],
      "text/plain": [
       "\u001b[1m Total params: \u001b[0m\u001b[38;5;34m12,673\u001b[0m (49.50 KB)\n"
      ]
     },
     "metadata": {},
     "output_type": "display_data"
    },
    {
     "data": {
      "text/html": [
       "<pre style=\"white-space:pre;overflow-x:auto;line-height:normal;font-family:Menlo,'DejaVu Sans Mono',consolas,'Courier New',monospace\"><span style=\"font-weight: bold\"> Trainable params: </span><span style=\"color: #00af00; text-decoration-color: #00af00\">12,673</span> (49.50 KB)\n",
       "</pre>\n"
      ],
      "text/plain": [
       "\u001b[1m Trainable params: \u001b[0m\u001b[38;5;34m12,673\u001b[0m (49.50 KB)\n"
      ]
     },
     "metadata": {},
     "output_type": "display_data"
    },
    {
     "data": {
      "text/html": [
       "<pre style=\"white-space:pre;overflow-x:auto;line-height:normal;font-family:Menlo,'DejaVu Sans Mono',consolas,'Courier New',monospace\"><span style=\"font-weight: bold\"> Non-trainable params: </span><span style=\"color: #00af00; text-decoration-color: #00af00\">0</span> (0.00 B)\n",
       "</pre>\n"
      ],
      "text/plain": [
       "\u001b[1m Non-trainable params: \u001b[0m\u001b[38;5;34m0\u001b[0m (0.00 B)\n"
      ]
     },
     "metadata": {},
     "output_type": "display_data"
    }
   ],
   "source": [
    "#Instantiate our Neural Network. We will use 128 neurons for first layer and then 64. It is quite a big dataset so it makes sense\n",
    "model = Sequential()\n",
    "model.add(Dense(128, input_shape = [33]))\n",
    "#We will luse leaky relu due to the amount of negatives in our dataset. It is quite linear, so only a small alpha value is needed\n",
    "model.add(LeakyReLU(alpha=0.023))\n",
    "model.add(Dense(64))\n",
    "model.add(LeakyReLU(alpha=0.023))\n",
    "model.add(Dense(1))\n",
    "#Adam optimiser is perfecly fine for this case\n",
    "model.compile(loss='mean_squared_error', optimizer = 'adam' , metrics=['mae'])\n",
    "model.summary()\n",
    "    "
   ]
  },
  {
   "cell_type": "code",
   "execution_count": 109,
   "id": "b1f490d2-4d06-419f-b618-26b43de42a0d",
   "metadata": {},
   "outputs": [
    {
     "name": "stdout",
     "output_type": "stream",
     "text": [
      "Epoch 1/150\n",
      "\u001b[1m4503/4503\u001b[0m \u001b[32m━━━━━━━━━━━━━━━━━━━━\u001b[0m\u001b[37m\u001b[0m \u001b[1m4s\u001b[0m 734us/step - loss: 4.0440 - mae: 0.9654 - val_loss: 0.0163 - val_mae: 0.0854\n",
      "Epoch 2/150\n",
      "\u001b[1m4503/4503\u001b[0m \u001b[32m━━━━━━━━━━━━━━━━━━━━\u001b[0m\u001b[37m\u001b[0m \u001b[1m3s\u001b[0m 713us/step - loss: 0.0176 - mae: 0.0812 - val_loss: 0.0073 - val_mae: 0.0589\n",
      "Epoch 3/150\n",
      "\u001b[1m4503/4503\u001b[0m \u001b[32m━━━━━━━━━━━━━━━━━━━━\u001b[0m\u001b[37m\u001b[0m \u001b[1m3s\u001b[0m 714us/step - loss: 0.0128 - mae: 0.0637 - val_loss: 0.0016 - val_mae: 0.0274\n",
      "Epoch 4/150\n",
      "\u001b[1m4503/4503\u001b[0m \u001b[32m━━━━━━━━━━━━━━━━━━━━\u001b[0m\u001b[37m\u001b[0m \u001b[1m3s\u001b[0m 708us/step - loss: 0.0074 - mae: 0.0452 - val_loss: 0.0017 - val_mae: 0.0242\n",
      "Epoch 5/150\n",
      "\u001b[1m4503/4503\u001b[0m \u001b[32m━━━━━━━━━━━━━━━━━━━━\u001b[0m\u001b[37m\u001b[0m \u001b[1m3s\u001b[0m 705us/step - loss: 0.0037 - mae: 0.0320 - val_loss: 0.0085 - val_mae: 0.0585\n",
      "Epoch 6/150\n",
      "\u001b[1m4503/4503\u001b[0m \u001b[32m━━━━━━━━━━━━━━━━━━━━\u001b[0m\u001b[37m\u001b[0m \u001b[1m3s\u001b[0m 712us/step - loss: 0.0041 - mae: 0.0334 - val_loss: 0.0133 - val_mae: 0.0648\n",
      "Epoch 7/150\n",
      "\u001b[1m4503/4503\u001b[0m \u001b[32m━━━━━━━━━━━━━━━━━━━━\u001b[0m\u001b[37m\u001b[0m \u001b[1m3s\u001b[0m 718us/step - loss: 0.0050 - mae: 0.0313 - val_loss: 5.5250e-04 - val_mae: 0.0139\n",
      "Epoch 8/150\n",
      "\u001b[1m4503/4503\u001b[0m \u001b[32m━━━━━━━━━━━━━━━━━━━━\u001b[0m\u001b[37m\u001b[0m \u001b[1m3s\u001b[0m 715us/step - loss: 0.0057 - mae: 0.0271 - val_loss: 4.8112e-04 - val_mae: 0.0156\n",
      "Epoch 9/150\n",
      "\u001b[1m4503/4503\u001b[0m \u001b[32m━━━━━━━━━━━━━━━━━━━━\u001b[0m\u001b[37m\u001b[0m \u001b[1m3s\u001b[0m 716us/step - loss: 8.8138e-04 - mae: 0.0176 - val_loss: 1.1486e-04 - val_mae: 0.0072\n",
      "Epoch 10/150\n",
      "\u001b[1m4503/4503\u001b[0m \u001b[32m━━━━━━━━━━━━━━━━━━━━\u001b[0m\u001b[37m\u001b[0m \u001b[1m3s\u001b[0m 715us/step - loss: 0.0022 - mae: 0.0199 - val_loss: 6.6761e-04 - val_mae: 0.0186\n",
      "Epoch 11/150\n",
      "\u001b[1m4503/4503\u001b[0m \u001b[32m━━━━━━━━━━━━━━━━━━━━\u001b[0m\u001b[37m\u001b[0m \u001b[1m3s\u001b[0m 725us/step - loss: 7.2748e-04 - mae: 0.0159 - val_loss: 0.0022 - val_mae: 0.0170\n",
      "Epoch 12/150\n",
      "\u001b[1m4503/4503\u001b[0m \u001b[32m━━━━━━━━━━━━━━━━━━━━\u001b[0m\u001b[37m\u001b[0m \u001b[1m3s\u001b[0m 721us/step - loss: 0.0015 - mae: 0.0179 - val_loss: 0.0014 - val_mae: 0.0256\n",
      "Epoch 13/150\n",
      "\u001b[1m4503/4503\u001b[0m \u001b[32m━━━━━━━━━━━━━━━━━━━━\u001b[0m\u001b[37m\u001b[0m \u001b[1m3s\u001b[0m 720us/step - loss: 0.0014 - mae: 0.0173 - val_loss: 6.6919e-04 - val_mae: 0.0190\n",
      "Epoch 14/150\n",
      "\u001b[1m4503/4503\u001b[0m \u001b[32m━━━━━━━━━━━━━━━━━━━━\u001b[0m\u001b[37m\u001b[0m \u001b[1m3s\u001b[0m 720us/step - loss: 7.8261e-04 - mae: 0.0150 - val_loss: 7.2530e-04 - val_mae: 0.0215\n",
      "Epoch 15/150\n",
      "\u001b[1m4503/4503\u001b[0m \u001b[32m━━━━━━━━━━━━━━━━━━━━\u001b[0m\u001b[37m\u001b[0m \u001b[1m3s\u001b[0m 721us/step - loss: 6.6649e-04 - mae: 0.0143 - val_loss: 1.9462e-04 - val_mae: 0.0064\n",
      "Epoch 16/150\n",
      "\u001b[1m4503/4503\u001b[0m \u001b[32m━━━━━━━━━━━━━━━━━━━━\u001b[0m\u001b[37m\u001b[0m \u001b[1m3s\u001b[0m 724us/step - loss: 0.0032 - mae: 0.0186 - val_loss: 4.2683e-04 - val_mae: 0.0149\n",
      "Epoch 17/150\n",
      "\u001b[1m4503/4503\u001b[0m \u001b[32m━━━━━━━━━━━━━━━━━━━━\u001b[0m\u001b[37m\u001b[0m \u001b[1m3s\u001b[0m 723us/step - loss: 8.1082e-04 - mae: 0.0135 - val_loss: 2.0881e-04 - val_mae: 0.0088\n",
      "Epoch 18/150\n",
      "\u001b[1m4503/4503\u001b[0m \u001b[32m━━━━━━━━━━━━━━━━━━━━\u001b[0m\u001b[37m\u001b[0m \u001b[1m3s\u001b[0m 718us/step - loss: 4.1707e-04 - mae: 0.0113 - val_loss: 2.7393e-04 - val_mae: 0.0101\n",
      "Epoch 19/150\n",
      "\u001b[1m4503/4503\u001b[0m \u001b[32m━━━━━━━━━━━━━━━━━━━━\u001b[0m\u001b[37m\u001b[0m \u001b[1m3s\u001b[0m 728us/step - loss: 0.0020 - mae: 0.0163 - val_loss: 1.7839e-04 - val_mae: 0.0087\n",
      "Epoch 20/150\n",
      "\u001b[1m4503/4503\u001b[0m \u001b[32m━━━━━━━━━━━━━━━━━━━━\u001b[0m\u001b[37m\u001b[0m \u001b[1m3s\u001b[0m 725us/step - loss: 5.6406e-04 - mae: 0.0121 - val_loss: 2.1172e-04 - val_mae: 0.0096\n",
      "Epoch 21/150\n",
      "\u001b[1m4503/4503\u001b[0m \u001b[32m━━━━━━━━━━━━━━━━━━━━\u001b[0m\u001b[37m\u001b[0m \u001b[1m3s\u001b[0m 725us/step - loss: 9.7727e-04 - mae: 0.0139 - val_loss: 8.1392e-05 - val_mae: 0.0063\n",
      "Epoch 22/150\n",
      "\u001b[1m4503/4503\u001b[0m \u001b[32m━━━━━━━━━━━━━━━━━━━━\u001b[0m\u001b[37m\u001b[0m \u001b[1m3s\u001b[0m 720us/step - loss: 3.6931e-04 - mae: 0.0101 - val_loss: 3.7037e-04 - val_mae: 0.0125\n",
      "Epoch 23/150\n",
      "\u001b[1m4503/4503\u001b[0m \u001b[32m━━━━━━━━━━━━━━━━━━━━\u001b[0m\u001b[37m\u001b[0m \u001b[1m3s\u001b[0m 723us/step - loss: 8.2973e-04 - mae: 0.0120 - val_loss: 1.2123e-04 - val_mae: 0.0071\n",
      "Epoch 24/150\n",
      "\u001b[1m4503/4503\u001b[0m \u001b[32m━━━━━━━━━━━━━━━━━━━━\u001b[0m\u001b[37m\u001b[0m \u001b[1m3s\u001b[0m 724us/step - loss: 0.0015 - mae: 0.0146 - val_loss: 6.5089e-04 - val_mae: 0.0185\n",
      "Epoch 25/150\n",
      "\u001b[1m4503/4503\u001b[0m \u001b[32m━━━━━━━━━━━━━━━━━━━━\u001b[0m\u001b[37m\u001b[0m \u001b[1m3s\u001b[0m 729us/step - loss: 5.2499e-04 - mae: 0.0128 - val_loss: 4.4020e-05 - val_mae: 0.0039\n",
      "Epoch 26/150\n",
      "\u001b[1m4503/4503\u001b[0m \u001b[32m━━━━━━━━━━━━━━━━━━━━\u001b[0m\u001b[37m\u001b[0m \u001b[1m3s\u001b[0m 723us/step - loss: 4.0495e-04 - mae: 0.0105 - val_loss: 2.9681e-04 - val_mae: 0.0090\n",
      "Epoch 27/150\n",
      "\u001b[1m4503/4503\u001b[0m \u001b[32m━━━━━━━━━━━━━━━━━━━━\u001b[0m\u001b[37m\u001b[0m \u001b[1m3s\u001b[0m 729us/step - loss: 4.9987e-04 - mae: 0.0104 - val_loss: 2.5247e-04 - val_mae: 0.0099\n",
      "Epoch 28/150\n",
      "\u001b[1m4503/4503\u001b[0m \u001b[32m━━━━━━━━━━━━━━━━━━━━\u001b[0m\u001b[37m\u001b[0m \u001b[1m3s\u001b[0m 733us/step - loss: 4.5124e-04 - mae: 0.0100 - val_loss: 9.3411e-04 - val_mae: 0.0254\n",
      "Epoch 29/150\n",
      "\u001b[1m4503/4503\u001b[0m \u001b[32m━━━━━━━━━━━━━━━━━━━━\u001b[0m\u001b[37m\u001b[0m \u001b[1m3s\u001b[0m 726us/step - loss: 2.7367e-04 - mae: 0.0095 - val_loss: 5.1394e-04 - val_mae: 0.0065\n",
      "Epoch 30/150\n",
      "\u001b[1m4503/4503\u001b[0m \u001b[32m━━━━━━━━━━━━━━━━━━━━\u001b[0m\u001b[37m\u001b[0m \u001b[1m3s\u001b[0m 729us/step - loss: 0.0011 - mae: 0.0123 - val_loss: 8.5646e-05 - val_mae: 0.0039\n",
      "Epoch 31/150\n",
      "\u001b[1m4503/4503\u001b[0m \u001b[32m━━━━━━━━━━━━━━━━━━━━\u001b[0m\u001b[37m\u001b[0m \u001b[1m3s\u001b[0m 724us/step - loss: 3.2993e-04 - mae: 0.0100 - val_loss: 1.0223e-04 - val_mae: 0.0038\n",
      "Epoch 32/150\n",
      "\u001b[1m4503/4503\u001b[0m \u001b[32m━━━━━━━━━━━━━━━━━━━━\u001b[0m\u001b[37m\u001b[0m \u001b[1m3s\u001b[0m 723us/step - loss: 3.9329e-04 - mae: 0.0108 - val_loss: 1.3103e-04 - val_mae: 0.0078\n",
      "Epoch 33/150\n",
      "\u001b[1m4503/4503\u001b[0m \u001b[32m━━━━━━━━━━━━━━━━━━━━\u001b[0m\u001b[37m\u001b[0m \u001b[1m3s\u001b[0m 731us/step - loss: 4.8375e-04 - mae: 0.0111 - val_loss: 8.2651e-05 - val_mae: 0.0063\n",
      "Epoch 34/150\n",
      "\u001b[1m4503/4503\u001b[0m \u001b[32m━━━━━━━━━━━━━━━━━━━━\u001b[0m\u001b[37m\u001b[0m \u001b[1m3s\u001b[0m 724us/step - loss: 2.5861e-04 - mae: 0.0087 - val_loss: 1.1109e-04 - val_mae: 0.0056\n",
      "Epoch 35/150\n",
      "\u001b[1m4503/4503\u001b[0m \u001b[32m━━━━━━━━━━━━━━━━━━━━\u001b[0m\u001b[37m\u001b[0m \u001b[1m3s\u001b[0m 726us/step - loss: 8.2158e-04 - mae: 0.0118 - val_loss: 1.8840e-04 - val_mae: 0.0092\n",
      "Epoch 36/150\n",
      "\u001b[1m4503/4503\u001b[0m \u001b[32m━━━━━━━━━━━━━━━━━━━━\u001b[0m\u001b[37m\u001b[0m \u001b[1m3s\u001b[0m 726us/step - loss: 7.5234e-04 - mae: 0.0113 - val_loss: 1.1895e-04 - val_mae: 0.0056\n",
      "Epoch 37/150\n",
      "\u001b[1m4503/4503\u001b[0m \u001b[32m━━━━━━━━━━━━━━━━━━━━\u001b[0m\u001b[37m\u001b[0m \u001b[1m3s\u001b[0m 725us/step - loss: 2.3780e-04 - mae: 0.0095 - val_loss: 4.7743e-04 - val_mae: 0.0128\n",
      "Epoch 38/150\n",
      "\u001b[1m4503/4503\u001b[0m \u001b[32m━━━━━━━━━━━━━━━━━━━━\u001b[0m\u001b[37m\u001b[0m \u001b[1m3s\u001b[0m 731us/step - loss: 0.0012 - mae: 0.0130 - val_loss: 1.3682e-04 - val_mae: 0.0049\n",
      "Epoch 39/150\n",
      "\u001b[1m4503/4503\u001b[0m \u001b[32m━━━━━━━━━━━━━━━━━━━━\u001b[0m\u001b[37m\u001b[0m \u001b[1m3s\u001b[0m 733us/step - loss: 2.0299e-04 - mae: 0.0081 - val_loss: 7.9671e-05 - val_mae: 0.0047\n",
      "Epoch 40/150\n",
      "\u001b[1m4503/4503\u001b[0m \u001b[32m━━━━━━━━━━━━━━━━━━━━\u001b[0m\u001b[37m\u001b[0m \u001b[1m3s\u001b[0m 724us/step - loss: 2.3308e-04 - mae: 0.0085 - val_loss: 5.6462e-05 - val_mae: 0.0041\n",
      "Epoch 41/150\n",
      "\u001b[1m4503/4503\u001b[0m \u001b[32m━━━━━━━━━━━━━━━━━━━━\u001b[0m\u001b[37m\u001b[0m \u001b[1m3s\u001b[0m 730us/step - loss: 3.0097e-04 - mae: 0.0097 - val_loss: 0.0019 - val_mae: 0.0264\n",
      "Epoch 42/150\n",
      "\u001b[1m4503/4503\u001b[0m \u001b[32m━━━━━━━━━━━━━━━━━━━━\u001b[0m\u001b[37m\u001b[0m \u001b[1m3s\u001b[0m 728us/step - loss: 0.0010 - mae: 0.0132 - val_loss: 1.5947e-04 - val_mae: 0.0103\n",
      "Epoch 43/150\n",
      "\u001b[1m4503/4503\u001b[0m \u001b[32m━━━━━━━━━━━━━━━━━━━━\u001b[0m\u001b[37m\u001b[0m \u001b[1m3s\u001b[0m 733us/step - loss: 1.9761e-04 - mae: 0.0079 - val_loss: 8.8924e-05 - val_mae: 0.0057\n",
      "Epoch 44/150\n",
      "\u001b[1m4503/4503\u001b[0m \u001b[32m━━━━━━━━━━━━━━━━━━━━\u001b[0m\u001b[37m\u001b[0m \u001b[1m3s\u001b[0m 730us/step - loss: 4.8383e-04 - mae: 0.0105 - val_loss: 7.1436e-05 - val_mae: 0.0051\n",
      "Epoch 45/150\n",
      "\u001b[1m4503/4503\u001b[0m \u001b[32m━━━━━━━━━━━━━━━━━━━━\u001b[0m\u001b[37m\u001b[0m \u001b[1m3s\u001b[0m 732us/step - loss: 2.7880e-04 - mae: 0.0094 - val_loss: 3.1881e-04 - val_mae: 0.0118\n",
      "Epoch 46/150\n",
      "\u001b[1m4503/4503\u001b[0m \u001b[32m━━━━━━━━━━━━━━━━━━━━\u001b[0m\u001b[37m\u001b[0m \u001b[1m3s\u001b[0m 730us/step - loss: 4.3259e-04 - mae: 0.0098 - val_loss: 1.6646e-04 - val_mae: 0.0077\n",
      "Epoch 47/150\n",
      "\u001b[1m4503/4503\u001b[0m \u001b[32m━━━━━━━━━━━━━━━━━━━━\u001b[0m\u001b[37m\u001b[0m \u001b[1m3s\u001b[0m 727us/step - loss: 7.4076e-04 - mae: 0.0110 - val_loss: 2.7227e-04 - val_mae: 0.0087\n",
      "Epoch 48/150\n",
      "\u001b[1m4503/4503\u001b[0m \u001b[32m━━━━━━━━━━━━━━━━━━━━\u001b[0m\u001b[37m\u001b[0m \u001b[1m3s\u001b[0m 733us/step - loss: 3.4057e-04 - mae: 0.0095 - val_loss: 1.0087e-04 - val_mae: 0.0038\n",
      "Epoch 49/150\n",
      "\u001b[1m4503/4503\u001b[0m \u001b[32m━━━━━━━━━━━━━━━━━━━━\u001b[0m\u001b[37m\u001b[0m \u001b[1m3s\u001b[0m 732us/step - loss: 1.3361e-04 - mae: 0.0066 - val_loss: 5.4334e-04 - val_mae: 0.0090\n",
      "Epoch 50/150\n",
      "\u001b[1m4503/4503\u001b[0m \u001b[32m━━━━━━━━━━━━━━━━━━━━\u001b[0m\u001b[37m\u001b[0m \u001b[1m3s\u001b[0m 728us/step - loss: 4.2114e-04 - mae: 0.0089 - val_loss: 5.0671e-04 - val_mae: 0.0041\n",
      "Epoch 51/150\n",
      "\u001b[1m4503/4503\u001b[0m \u001b[32m━━━━━━━━━━━━━━━━━━━━\u001b[0m\u001b[37m\u001b[0m \u001b[1m3s\u001b[0m 730us/step - loss: 2.0047e-04 - mae: 0.0088 - val_loss: 0.0011 - val_mae: 0.0143\n",
      "Epoch 52/150\n",
      "\u001b[1m4503/4503\u001b[0m \u001b[32m━━━━━━━━━━━━━━━━━━━━\u001b[0m\u001b[37m\u001b[0m \u001b[1m3s\u001b[0m 735us/step - loss: 8.9979e-04 - mae: 0.0122 - val_loss: 1.4730e-04 - val_mae: 0.0048\n",
      "Epoch 53/150\n",
      "\u001b[1m4503/4503\u001b[0m \u001b[32m━━━━━━━━━━━━━━━━━━━━\u001b[0m\u001b[37m\u001b[0m \u001b[1m3s\u001b[0m 736us/step - loss: 9.6877e-04 - mae: 0.0127 - val_loss: 1.3626e-04 - val_mae: 0.0087\n",
      "Epoch 54/150\n",
      "\u001b[1m4503/4503\u001b[0m \u001b[32m━━━━━━━━━━━━━━━━━━━━\u001b[0m\u001b[37m\u001b[0m \u001b[1m3s\u001b[0m 734us/step - loss: 2.2734e-04 - mae: 0.0086 - val_loss: 2.0536e-04 - val_mae: 0.0062\n",
      "Epoch 55/150\n",
      "\u001b[1m4503/4503\u001b[0m \u001b[32m━━━━━━━━━━━━━━━━━━━━\u001b[0m\u001b[37m\u001b[0m \u001b[1m3s\u001b[0m 736us/step - loss: 3.5790e-04 - mae: 0.0101 - val_loss: 2.0968e-04 - val_mae: 0.0065\n",
      "Epoch 56/150\n",
      "\u001b[1m4503/4503\u001b[0m \u001b[32m━━━━━━━━━━━━━━━━━━━━\u001b[0m\u001b[37m\u001b[0m \u001b[1m3s\u001b[0m 734us/step - loss: 3.8591e-04 - mae: 0.0083 - val_loss: 0.0018 - val_mae: 0.0035\n",
      "Epoch 57/150\n",
      "\u001b[1m4503/4503\u001b[0m \u001b[32m━━━━━━━━━━━━━━━━━━━━\u001b[0m\u001b[37m\u001b[0m \u001b[1m3s\u001b[0m 738us/step - loss: 2.4212e-04 - mae: 0.0076 - val_loss: 0.0020 - val_mae: 0.0058\n",
      "Epoch 58/150\n",
      "\u001b[1m4503/4503\u001b[0m \u001b[32m━━━━━━━━━━━━━━━━━━━━\u001b[0m\u001b[37m\u001b[0m \u001b[1m3s\u001b[0m 735us/step - loss: 0.0013 - mae: 0.0113 - val_loss: 7.2485e-04 - val_mae: 0.0060\n",
      "Epoch 59/150\n",
      "\u001b[1m4503/4503\u001b[0m \u001b[32m━━━━━━━━━━━━━━━━━━━━\u001b[0m\u001b[37m\u001b[0m \u001b[1m3s\u001b[0m 731us/step - loss: 2.1324e-04 - mae: 0.0082 - val_loss: 6.3211e-04 - val_mae: 0.0082\n",
      "Epoch 60/150\n",
      "\u001b[1m4503/4503\u001b[0m \u001b[32m━━━━━━━━━━━━━━━━━━━━\u001b[0m\u001b[37m\u001b[0m \u001b[1m3s\u001b[0m 736us/step - loss: 3.3986e-04 - mae: 0.0082 - val_loss: 1.0539e-04 - val_mae: 0.0064\n",
      "Epoch 61/150\n",
      "\u001b[1m4503/4503\u001b[0m \u001b[32m━━━━━━━━━━━━━━━━━━━━\u001b[0m\u001b[37m\u001b[0m \u001b[1m3s\u001b[0m 738us/step - loss: 2.5485e-04 - mae: 0.0078 - val_loss: 2.9680e-04 - val_mae: 0.0125\n",
      "Epoch 62/150\n",
      "\u001b[1m4503/4503\u001b[0m \u001b[32m━━━━━━━━━━━━━━━━━━━━\u001b[0m\u001b[37m\u001b[0m \u001b[1m3s\u001b[0m 733us/step - loss: 2.1044e-04 - mae: 0.0081 - val_loss: 1.3611e-04 - val_mae: 0.0060\n",
      "Epoch 63/150\n",
      "\u001b[1m4503/4503\u001b[0m \u001b[32m━━━━━━━━━━━━━━━━━━━━\u001b[0m\u001b[37m\u001b[0m \u001b[1m3s\u001b[0m 735us/step - loss: 1.6378e-04 - mae: 0.0072 - val_loss: 4.8752e-04 - val_mae: 0.0077\n",
      "Epoch 64/150\n",
      "\u001b[1m4503/4503\u001b[0m \u001b[32m━━━━━━━━━━━━━━━━━━━━\u001b[0m\u001b[37m\u001b[0m \u001b[1m3s\u001b[0m 734us/step - loss: 3.1197e-04 - mae: 0.0084 - val_loss: 8.3211e-05 - val_mae: 0.0065\n",
      "Epoch 65/150\n",
      "\u001b[1m4503/4503\u001b[0m \u001b[32m━━━━━━━━━━━━━━━━━━━━\u001b[0m\u001b[37m\u001b[0m \u001b[1m3s\u001b[0m 741us/step - loss: 3.8068e-04 - mae: 0.0091 - val_loss: 6.8408e-05 - val_mae: 0.0039\n",
      "Epoch 66/150\n",
      "\u001b[1m4503/4503\u001b[0m \u001b[32m━━━━━━━━━━━━━━━━━━━━\u001b[0m\u001b[37m\u001b[0m \u001b[1m3s\u001b[0m 734us/step - loss: 3.3515e-04 - mae: 0.0071 - val_loss: 1.9157e-04 - val_mae: 0.0037\n",
      "Epoch 67/150\n",
      "\u001b[1m4503/4503\u001b[0m \u001b[32m━━━━━━━━━━━━━━━━━━━━\u001b[0m\u001b[37m\u001b[0m \u001b[1m3s\u001b[0m 735us/step - loss: 2.6523e-04 - mae: 0.0068 - val_loss: 6.6834e-05 - val_mae: 0.0063\n",
      "Epoch 68/150\n",
      "\u001b[1m4503/4503\u001b[0m \u001b[32m━━━━━━━━━━━━━━━━━━━━\u001b[0m\u001b[37m\u001b[0m \u001b[1m3s\u001b[0m 741us/step - loss: 2.5686e-04 - mae: 0.0085 - val_loss: 5.0704e-05 - val_mae: 0.0046\n",
      "Epoch 69/150\n",
      "\u001b[1m4503/4503\u001b[0m \u001b[32m━━━━━━━━━━━━━━━━━━━━\u001b[0m\u001b[37m\u001b[0m \u001b[1m3s\u001b[0m 735us/step - loss: 4.7104e-04 - mae: 0.0101 - val_loss: 1.9567e-04 - val_mae: 0.0077\n",
      "Epoch 70/150\n",
      "\u001b[1m4503/4503\u001b[0m \u001b[32m━━━━━━━━━━━━━━━━━━━━\u001b[0m\u001b[37m\u001b[0m \u001b[1m3s\u001b[0m 745us/step - loss: 2.9968e-04 - mae: 0.0080 - val_loss: 2.1581e-04 - val_mae: 0.0126\n",
      "Epoch 71/150\n",
      "\u001b[1m4503/4503\u001b[0m \u001b[32m━━━━━━━━━━━━━━━━━━━━\u001b[0m\u001b[37m\u001b[0m \u001b[1m3s\u001b[0m 736us/step - loss: 1.8421e-04 - mae: 0.0080 - val_loss: 5.7399e-04 - val_mae: 0.0093\n",
      "Epoch 72/150\n",
      "\u001b[1m4503/4503\u001b[0m \u001b[32m━━━━━━━━━━━━━━━━━━━━\u001b[0m\u001b[37m\u001b[0m \u001b[1m3s\u001b[0m 739us/step - loss: 5.0226e-04 - mae: 0.0096 - val_loss: 4.9178e-05 - val_mae: 0.0037\n",
      "Epoch 73/150\n",
      "\u001b[1m4503/4503\u001b[0m \u001b[32m━━━━━━━━━━━━━━━━━━━━\u001b[0m\u001b[37m\u001b[0m \u001b[1m4s\u001b[0m 796us/step - loss: 1.6018e-04 - mae: 0.0073 - val_loss: 3.5284e-04 - val_mae: 0.0123\n",
      "Epoch 74/150\n",
      "\u001b[1m4503/4503\u001b[0m \u001b[32m━━━━━━━━━━━━━━━━━━━━\u001b[0m\u001b[37m\u001b[0m \u001b[1m3s\u001b[0m 746us/step - loss: 1.5843e-04 - mae: 0.0077 - val_loss: 1.3416e-04 - val_mae: 0.0053\n",
      "Epoch 75/150\n",
      "\u001b[1m4503/4503\u001b[0m \u001b[32m━━━━━━━━━━━━━━━━━━━━\u001b[0m\u001b[37m\u001b[0m \u001b[1m3s\u001b[0m 737us/step - loss: 1.5627e-04 - mae: 0.0077 - val_loss: 2.2512e-04 - val_mae: 0.0072\n",
      "Epoch 76/150\n",
      "\u001b[1m4503/4503\u001b[0m \u001b[32m━━━━━━━━━━━━━━━━━━━━\u001b[0m\u001b[37m\u001b[0m \u001b[1m3s\u001b[0m 770us/step - loss: 2.9836e-04 - mae: 0.0091 - val_loss: 3.8995e-05 - val_mae: 0.0038\n",
      "Epoch 77/150\n",
      "\u001b[1m4503/4503\u001b[0m \u001b[32m━━━━━━━━━━━━━━━━━━━━\u001b[0m\u001b[37m\u001b[0m \u001b[1m3s\u001b[0m 743us/step - loss: 1.7435e-04 - mae: 0.0073 - val_loss: 1.3340e-04 - val_mae: 0.0065\n",
      "Epoch 78/150\n",
      "\u001b[1m4503/4503\u001b[0m \u001b[32m━━━━━━━━━━━━━━━━━━━━\u001b[0m\u001b[37m\u001b[0m \u001b[1m3s\u001b[0m 743us/step - loss: 2.3583e-04 - mae: 0.0075 - val_loss: 8.4915e-05 - val_mae: 0.0065\n",
      "Epoch 79/150\n",
      "\u001b[1m4503/4503\u001b[0m \u001b[32m━━━━━━━━━━━━━━━━━━━━\u001b[0m\u001b[37m\u001b[0m \u001b[1m3s\u001b[0m 741us/step - loss: 2.2338e-04 - mae: 0.0077 - val_loss: 4.0848e-05 - val_mae: 0.0038\n",
      "Epoch 80/150\n",
      "\u001b[1m4503/4503\u001b[0m \u001b[32m━━━━━━━━━━━━━━━━━━━━\u001b[0m\u001b[37m\u001b[0m \u001b[1m3s\u001b[0m 746us/step - loss: 3.0065e-04 - mae: 0.0077 - val_loss: 9.2917e-05 - val_mae: 0.0054\n",
      "Epoch 81/150\n",
      "\u001b[1m4503/4503\u001b[0m \u001b[32m━━━━━━━━━━━━━━━━━━━━\u001b[0m\u001b[37m\u001b[0m \u001b[1m3s\u001b[0m 743us/step - loss: 1.6905e-04 - mae: 0.0064 - val_loss: 4.2260e-05 - val_mae: 0.0046\n",
      "Epoch 82/150\n",
      "\u001b[1m4503/4503\u001b[0m \u001b[32m━━━━━━━━━━━━━━━━━━━━\u001b[0m\u001b[37m\u001b[0m \u001b[1m3s\u001b[0m 743us/step - loss: 1.8881e-04 - mae: 0.0070 - val_loss: 1.0312e-04 - val_mae: 0.0071\n",
      "Epoch 83/150\n",
      "\u001b[1m4503/4503\u001b[0m \u001b[32m━━━━━━━━━━━━━━━━━━━━\u001b[0m\u001b[37m\u001b[0m \u001b[1m3s\u001b[0m 745us/step - loss: 3.3848e-04 - mae: 0.0070 - val_loss: 2.5866e-04 - val_mae: 0.0032\n",
      "Epoch 84/150\n",
      "\u001b[1m4503/4503\u001b[0m \u001b[32m━━━━━━━━━━━━━━━━━━━━\u001b[0m\u001b[37m\u001b[0m \u001b[1m3s\u001b[0m 746us/step - loss: 1.7323e-04 - mae: 0.0064 - val_loss: 2.9119e-04 - val_mae: 0.0040\n",
      "Epoch 85/150\n",
      "\u001b[1m4503/4503\u001b[0m \u001b[32m━━━━━━━━━━━━━━━━━━━━\u001b[0m\u001b[37m\u001b[0m \u001b[1m3s\u001b[0m 752us/step - loss: 1.9732e-04 - mae: 0.0074 - val_loss: 8.7874e-05 - val_mae: 0.0061\n",
      "Epoch 86/150\n",
      "\u001b[1m4503/4503\u001b[0m \u001b[32m━━━━━━━━━━━━━━━━━━━━\u001b[0m\u001b[37m\u001b[0m \u001b[1m3s\u001b[0m 766us/step - loss: 2.9193e-04 - mae: 0.0070 - val_loss: 3.6255e-04 - val_mae: 0.0154\n",
      "Epoch 87/150\n",
      "\u001b[1m4503/4503\u001b[0m \u001b[32m━━━━━━━━━━━━━━━━━━━━\u001b[0m\u001b[37m\u001b[0m \u001b[1m3s\u001b[0m 747us/step - loss: 3.6251e-04 - mae: 0.0079 - val_loss: 1.0536e-04 - val_mae: 0.0043\n",
      "Epoch 88/150\n",
      "\u001b[1m4503/4503\u001b[0m \u001b[32m━━━━━━━━━━━━━━━━━━━━\u001b[0m\u001b[37m\u001b[0m \u001b[1m3s\u001b[0m 749us/step - loss: 0.0019 - mae: 0.0110 - val_loss: 8.6865e-05 - val_mae: 0.0037\n",
      "Epoch 89/150\n",
      "\u001b[1m4503/4503\u001b[0m \u001b[32m━━━━━━━━━━━━━━━━━━━━\u001b[0m\u001b[37m\u001b[0m \u001b[1m3s\u001b[0m 749us/step - loss: 1.5199e-04 - mae: 0.0069 - val_loss: 6.5205e-04 - val_mae: 0.0108\n",
      "Epoch 90/150\n",
      "\u001b[1m4503/4503\u001b[0m \u001b[32m━━━━━━━━━━━━━━━━━━━━\u001b[0m\u001b[37m\u001b[0m \u001b[1m3s\u001b[0m 749us/step - loss: 2.0054e-04 - mae: 0.0069 - val_loss: 1.0632e-04 - val_mae: 0.0058\n",
      "Epoch 91/150\n",
      "\u001b[1m4503/4503\u001b[0m \u001b[32m━━━━━━━━━━━━━━━━━━━━\u001b[0m\u001b[37m\u001b[0m \u001b[1m3s\u001b[0m 754us/step - loss: 2.7197e-04 - mae: 0.0074 - val_loss: 1.2332e-04 - val_mae: 0.0055\n",
      "Epoch 92/150\n",
      "\u001b[1m4503/4503\u001b[0m \u001b[32m━━━━━━━━━━━━━━━━━━━━\u001b[0m\u001b[37m\u001b[0m \u001b[1m3s\u001b[0m 748us/step - loss: 6.0530e-04 - mae: 0.0080 - val_loss: 4.8432e-04 - val_mae: 0.0068\n",
      "Epoch 93/150\n",
      "\u001b[1m4503/4503\u001b[0m \u001b[32m━━━━━━━━━━━━━━━━━━━━\u001b[0m\u001b[37m\u001b[0m \u001b[1m3s\u001b[0m 753us/step - loss: 2.3088e-04 - mae: 0.0077 - val_loss: 2.9433e-04 - val_mae: 0.0037\n",
      "Epoch 94/150\n",
      "\u001b[1m4503/4503\u001b[0m \u001b[32m━━━━━━━━━━━━━━━━━━━━\u001b[0m\u001b[37m\u001b[0m \u001b[1m4s\u001b[0m 807us/step - loss: 7.2780e-04 - mae: 0.0106 - val_loss: 5.3337e-05 - val_mae: 0.0041\n",
      "Epoch 95/150\n",
      "\u001b[1m4503/4503\u001b[0m \u001b[32m━━━━━━━━━━━━━━━━━━━━\u001b[0m\u001b[37m\u001b[0m \u001b[1m4s\u001b[0m 775us/step - loss: 1.3440e-04 - mae: 0.0066 - val_loss: 3.2220e-04 - val_mae: 0.0075\n",
      "Epoch 96/150\n",
      "\u001b[1m4503/4503\u001b[0m \u001b[32m━━━━━━━━━━━━━━━━━━━━\u001b[0m\u001b[37m\u001b[0m \u001b[1m4s\u001b[0m 886us/step - loss: 2.5460e-04 - mae: 0.0075 - val_loss: 5.7239e-04 - val_mae: 0.0055\n",
      "Epoch 97/150\n",
      "\u001b[1m4503/4503\u001b[0m \u001b[32m━━━━━━━━━━━━━━━━━━━━\u001b[0m\u001b[37m\u001b[0m \u001b[1m4s\u001b[0m 805us/step - loss: 2.0448e-04 - mae: 0.0071 - val_loss: 0.0014 - val_mae: 0.0142\n",
      "Epoch 98/150\n",
      "\u001b[1m4503/4503\u001b[0m \u001b[32m━━━━━━━━━━━━━━━━━━━━\u001b[0m\u001b[37m\u001b[0m \u001b[1m4s\u001b[0m 856us/step - loss: 0.0018 - mae: 0.0125 - val_loss: 3.2312e-05 - val_mae: 0.0034\n",
      "Epoch 99/150\n",
      "\u001b[1m4503/4503\u001b[0m \u001b[32m━━━━━━━━━━━━━━━━━━━━\u001b[0m\u001b[37m\u001b[0m \u001b[1m4s\u001b[0m 807us/step - loss: 1.3636e-04 - mae: 0.0064 - val_loss: 8.0267e-05 - val_mae: 0.0055\n",
      "Epoch 100/150\n",
      "\u001b[1m4503/4503\u001b[0m \u001b[32m━━━━━━━━━━━━━━━━━━━━\u001b[0m\u001b[37m\u001b[0m \u001b[1m4s\u001b[0m 914us/step - loss: 3.9781e-04 - mae: 0.0081 - val_loss: 1.0798e-04 - val_mae: 0.0070\n",
      "Epoch 101/150\n",
      "\u001b[1m4503/4503\u001b[0m \u001b[32m━━━━━━━━━━━━━━━━━━━━\u001b[0m\u001b[37m\u001b[0m \u001b[1m4s\u001b[0m 958us/step - loss: 1.9966e-04 - mae: 0.0073 - val_loss: 4.9439e-05 - val_mae: 0.0046\n",
      "Epoch 102/150\n",
      "\u001b[1m4503/4503\u001b[0m \u001b[32m━━━━━━━━━━━━━━━━━━━━\u001b[0m\u001b[37m\u001b[0m \u001b[1m4s\u001b[0m 989us/step - loss: 1.1826e-04 - mae: 0.0062 - val_loss: 6.4907e-04 - val_mae: 0.0122\n",
      "Epoch 103/150\n",
      "\u001b[1m4503/4503\u001b[0m \u001b[32m━━━━━━━━━━━━━━━━━━━━\u001b[0m\u001b[37m\u001b[0m \u001b[1m5s\u001b[0m 996us/step - loss: 6.8140e-04 - mae: 0.0088 - val_loss: 8.3447e-05 - val_mae: 0.0052\n",
      "Epoch 104/150\n",
      "\u001b[1m4503/4503\u001b[0m \u001b[32m━━━━━━━━━━━━━━━━━━━━\u001b[0m\u001b[37m\u001b[0m \u001b[1m4s\u001b[0m 904us/step - loss: 3.8784e-04 - mae: 0.0090 - val_loss: 1.0981e-04 - val_mae: 0.0075\n",
      "Epoch 105/150\n",
      "\u001b[1m4503/4503\u001b[0m \u001b[32m━━━━━━━━━━━━━━━━━━━━\u001b[0m\u001b[37m\u001b[0m \u001b[1m4s\u001b[0m 805us/step - loss: 1.7715e-04 - mae: 0.0069 - val_loss: 0.0016 - val_mae: 0.0259\n",
      "Epoch 106/150\n",
      "\u001b[1m4503/4503\u001b[0m \u001b[32m━━━━━━━━━━━━━━━━━━━━\u001b[0m\u001b[37m\u001b[0m \u001b[1m4s\u001b[0m 789us/step - loss: 3.7190e-04 - mae: 0.0079 - val_loss: 6.3086e-05 - val_mae: 0.0042\n",
      "Epoch 107/150\n",
      "\u001b[1m4503/4503\u001b[0m \u001b[32m━━━━━━━━━━━━━━━━━━━━\u001b[0m\u001b[37m\u001b[0m \u001b[1m4s\u001b[0m 930us/step - loss: 0.0012 - mae: 0.0094 - val_loss: 3.5568e-04 - val_mae: 0.0141\n",
      "Epoch 108/150\n",
      "\u001b[1m4503/4503\u001b[0m \u001b[32m━━━━━━━━━━━━━━━━━━━━\u001b[0m\u001b[37m\u001b[0m \u001b[1m4s\u001b[0m 798us/step - loss: 1.9319e-04 - mae: 0.0069 - val_loss: 0.0014 - val_mae: 0.0270\n",
      "Epoch 109/150\n",
      "\u001b[1m4503/4503\u001b[0m \u001b[32m━━━━━━━━━━━━━━━━━━━━\u001b[0m\u001b[37m\u001b[0m \u001b[1m4s\u001b[0m 786us/step - loss: 7.6463e-04 - mae: 0.0102 - val_loss: 5.9730e-05 - val_mae: 0.0044\n",
      "Epoch 110/150\n",
      "\u001b[1m4503/4503\u001b[0m \u001b[32m━━━━━━━━━━━━━━━━━━━━\u001b[0m\u001b[37m\u001b[0m \u001b[1m4s\u001b[0m 787us/step - loss: 1.4642e-04 - mae: 0.0064 - val_loss: 0.0020 - val_mae: 0.0254\n",
      "Epoch 111/150\n",
      "\u001b[1m4503/4503\u001b[0m \u001b[32m━━━━━━━━━━━━━━━━━━━━\u001b[0m\u001b[37m\u001b[0m \u001b[1m4s\u001b[0m 798us/step - loss: 1.6411e-04 - mae: 0.0064 - val_loss: 0.0012 - val_mae: 0.0051\n",
      "Epoch 112/150\n",
      "\u001b[1m4503/4503\u001b[0m \u001b[32m━━━━━━━━━━━━━━━━━━━━\u001b[0m\u001b[37m\u001b[0m \u001b[1m4s\u001b[0m 786us/step - loss: 6.1784e-04 - mae: 0.0104 - val_loss: 4.2651e-05 - val_mae: 0.0046\n",
      "Epoch 113/150\n",
      "\u001b[1m4503/4503\u001b[0m \u001b[32m━━━━━━━━━━━━━━━━━━━━\u001b[0m\u001b[37m\u001b[0m \u001b[1m4s\u001b[0m 798us/step - loss: 5.1349e-04 - mae: 0.0079 - val_loss: 7.4532e-05 - val_mae: 0.0044\n",
      "Epoch 114/150\n",
      "\u001b[1m4503/4503\u001b[0m \u001b[32m━━━━━━━━━━━━━━━━━━━━\u001b[0m\u001b[37m\u001b[0m \u001b[1m4s\u001b[0m 796us/step - loss: 8.9361e-04 - mae: 0.0111 - val_loss: 7.8166e-05 - val_mae: 0.0053\n",
      "Epoch 115/150\n",
      "\u001b[1m4503/4503\u001b[0m \u001b[32m━━━━━━━━━━━━━━━━━━━━\u001b[0m\u001b[37m\u001b[0m \u001b[1m4s\u001b[0m 796us/step - loss: 1.0594e-04 - mae: 0.0064 - val_loss: 3.7283e-04 - val_mae: 0.0109\n",
      "Epoch 116/150\n",
      "\u001b[1m4503/4503\u001b[0m \u001b[32m━━━━━━━━━━━━━━━━━━━━\u001b[0m\u001b[37m\u001b[0m \u001b[1m4s\u001b[0m 789us/step - loss: 1.2476e-04 - mae: 0.0058 - val_loss: 3.9872e-04 - val_mae: 0.0098\n",
      "Epoch 117/150\n",
      "\u001b[1m4503/4503\u001b[0m \u001b[32m━━━━━━━━━━━━━━━━━━━━\u001b[0m\u001b[37m\u001b[0m \u001b[1m4s\u001b[0m 783us/step - loss: 3.2232e-04 - mae: 0.0071 - val_loss: 1.0947e-04 - val_mae: 0.0045\n",
      "Epoch 118/150\n",
      "\u001b[1m4503/4503\u001b[0m \u001b[32m━━━━━━━━━━━━━━━━━━━━\u001b[0m\u001b[37m\u001b[0m \u001b[1m4s\u001b[0m 806us/step - loss: 0.0011 - mae: 0.0080 - val_loss: 2.8933e-04 - val_mae: 0.0035\n",
      "Epoch 119/150\n",
      "\u001b[1m4503/4503\u001b[0m \u001b[32m━━━━━━━━━━━━━━━━━━━━\u001b[0m\u001b[37m\u001b[0m \u001b[1m4s\u001b[0m 790us/step - loss: 1.6276e-04 - mae: 0.0061 - val_loss: 3.1019e-04 - val_mae: 0.0040\n",
      "Epoch 120/150\n",
      "\u001b[1m4503/4503\u001b[0m \u001b[32m━━━━━━━━━━━━━━━━━━━━\u001b[0m\u001b[37m\u001b[0m \u001b[1m4s\u001b[0m 782us/step - loss: 1.9276e-04 - mae: 0.0056 - val_loss: 6.2743e-05 - val_mae: 0.0057\n",
      "Epoch 121/150\n",
      "\u001b[1m4503/4503\u001b[0m \u001b[32m━━━━━━━━━━━━━━━━━━━━\u001b[0m\u001b[37m\u001b[0m \u001b[1m4s\u001b[0m 806us/step - loss: 1.6661e-04 - mae: 0.0064 - val_loss: 1.9238e-04 - val_mae: 0.0106\n",
      "Epoch 122/150\n",
      "\u001b[1m4503/4503\u001b[0m \u001b[32m━━━━━━━━━━━━━━━━━━━━\u001b[0m\u001b[37m\u001b[0m \u001b[1m4s\u001b[0m 858us/step - loss: 1.5579e-04 - mae: 0.0071 - val_loss: 0.0080 - val_mae: 0.0144\n",
      "Epoch 123/150\n",
      "\u001b[1m4503/4503\u001b[0m \u001b[32m━━━━━━━━━━━━━━━━━━━━\u001b[0m\u001b[37m\u001b[0m \u001b[1m4s\u001b[0m 809us/step - loss: 0.0067 - mae: 0.0119 - val_loss: 6.1228e-05 - val_mae: 0.0039\n",
      "Epoch 124/150\n",
      "\u001b[1m4503/4503\u001b[0m \u001b[32m━━━━━━━━━━━━━━━━━━━━\u001b[0m\u001b[37m\u001b[0m \u001b[1m4s\u001b[0m 853us/step - loss: 2.7548e-04 - mae: 0.0061 - val_loss: 7.9768e-05 - val_mae: 0.0037\n",
      "Epoch 125/150\n",
      "\u001b[1m4503/4503\u001b[0m \u001b[32m━━━━━━━━━━━━━━━━━━━━\u001b[0m\u001b[37m\u001b[0m \u001b[1m4s\u001b[0m 823us/step - loss: 1.5485e-04 - mae: 0.0061 - val_loss: 1.3882e-04 - val_mae: 0.0038\n",
      "Epoch 126/150\n",
      "\u001b[1m4503/4503\u001b[0m \u001b[32m━━━━━━━━━━━━━━━━━━━━\u001b[0m\u001b[37m\u001b[0m \u001b[1m5s\u001b[0m 1ms/step - loss: 5.7108e-04 - mae: 0.0083 - val_loss: 5.3563e-05 - val_mae: 0.0043\n",
      "Epoch 127/150\n",
      "\u001b[1m4503/4503\u001b[0m \u001b[32m━━━━━━━━━━━━━━━━━━━━\u001b[0m\u001b[37m\u001b[0m \u001b[1m5s\u001b[0m 1ms/step - loss: 2.6078e-04 - mae: 0.0054 - val_loss: 0.0020 - val_mae: 0.0331\n",
      "Epoch 128/150\n",
      "\u001b[1m4503/4503\u001b[0m \u001b[32m━━━━━━━━━━━━━━━━━━━━\u001b[0m\u001b[37m\u001b[0m \u001b[1m4s\u001b[0m 966us/step - loss: 3.6663e-04 - mae: 0.0073 - val_loss: 5.6526e-05 - val_mae: 0.0056\n",
      "Epoch 129/150\n",
      "\u001b[1m4503/4503\u001b[0m \u001b[32m━━━━━━━━━━━━━━━━━━━━\u001b[0m\u001b[37m\u001b[0m \u001b[1m5s\u001b[0m 1ms/step - loss: 9.4084e-05 - mae: 0.0059 - val_loss: 3.8530e-05 - val_mae: 0.0039\n",
      "Epoch 130/150\n",
      "\u001b[1m4503/4503\u001b[0m \u001b[32m━━━━━━━━━━━━━━━━━━━━\u001b[0m\u001b[37m\u001b[0m \u001b[1m4s\u001b[0m 949us/step - loss: 3.1487e-04 - mae: 0.0071 - val_loss: 2.5148e-04 - val_mae: 0.0116\n",
      "Epoch 131/150\n",
      "\u001b[1m4503/4503\u001b[0m \u001b[32m━━━━━━━━━━━━━━━━━━━━\u001b[0m\u001b[37m\u001b[0m \u001b[1m5s\u001b[0m 996us/step - loss: 2.0511e-04 - mae: 0.0077 - val_loss: 2.3324e-05 - val_mae: 0.0030\n",
      "Epoch 132/150\n",
      "\u001b[1m4503/4503\u001b[0m \u001b[32m━━━━━━━━━━━━━━━━━━━━\u001b[0m\u001b[37m\u001b[0m \u001b[1m4s\u001b[0m 915us/step - loss: 1.9048e-04 - mae: 0.0069 - val_loss: 1.0620e-04 - val_mae: 0.0083\n",
      "Epoch 133/150\n",
      "\u001b[1m4503/4503\u001b[0m \u001b[32m━━━━━━━━━━━━━━━━━━━━\u001b[0m\u001b[37m\u001b[0m \u001b[1m4s\u001b[0m 882us/step - loss: 1.2456e-04 - mae: 0.0058 - val_loss: 4.7327e-05 - val_mae: 0.0033\n",
      "Epoch 134/150\n",
      "\u001b[1m4503/4503\u001b[0m \u001b[32m━━━━━━━━━━━━━━━━━━━━\u001b[0m\u001b[37m\u001b[0m \u001b[1m4s\u001b[0m 820us/step - loss: 6.1815e-04 - mae: 0.0098 - val_loss: 1.4448e-04 - val_mae: 0.0072\n",
      "Epoch 135/150\n",
      "\u001b[1m4503/4503\u001b[0m \u001b[32m━━━━━━━━━━━━━━━━━━━━\u001b[0m\u001b[37m\u001b[0m \u001b[1m4s\u001b[0m 802us/step - loss: 3.3049e-04 - mae: 0.0075 - val_loss: 1.1737e-04 - val_mae: 0.0076\n",
      "Epoch 136/150\n",
      "\u001b[1m4503/4503\u001b[0m \u001b[32m━━━━━━━━━━━━━━━━━━━━\u001b[0m\u001b[37m\u001b[0m \u001b[1m4s\u001b[0m 801us/step - loss: 1.1152e-04 - mae: 0.0064 - val_loss: 0.0028 - val_mae: 0.0349\n",
      "Epoch 137/150\n",
      "\u001b[1m4503/4503\u001b[0m \u001b[32m━━━━━━━━━━━━━━━━━━━━\u001b[0m\u001b[37m\u001b[0m \u001b[1m4s\u001b[0m 795us/step - loss: 3.5359e-04 - mae: 0.0084 - val_loss: 4.2609e-04 - val_mae: 0.0036\n",
      "Epoch 138/150\n",
      "\u001b[1m4503/4503\u001b[0m \u001b[32m━━━━━━━━━━━━━━━━━━━━\u001b[0m\u001b[37m\u001b[0m \u001b[1m4s\u001b[0m 793us/step - loss: 2.3011e-04 - mae: 0.0068 - val_loss: 3.5923e-04 - val_mae: 0.0035\n",
      "Epoch 139/150\n",
      "\u001b[1m4503/4503\u001b[0m \u001b[32m━━━━━━━━━━━━━━━━━━━━\u001b[0m\u001b[37m\u001b[0m \u001b[1m4s\u001b[0m 804us/step - loss: 1.6152e-04 - mae: 0.0061 - val_loss: 7.8234e-04 - val_mae: 0.0156\n",
      "Epoch 140/150\n",
      "\u001b[1m4503/4503\u001b[0m \u001b[32m━━━━━━━━━━━━━━━━━━━━\u001b[0m\u001b[37m\u001b[0m \u001b[1m4s\u001b[0m 796us/step - loss: 2.6440e-04 - mae: 0.0075 - val_loss: 7.1226e-05 - val_mae: 0.0040\n",
      "Epoch 141/150\n",
      "\u001b[1m4503/4503\u001b[0m \u001b[32m━━━━━━━━━━━━━━━━━━━━\u001b[0m\u001b[37m\u001b[0m \u001b[1m4s\u001b[0m 798us/step - loss: 2.3306e-04 - mae: 0.0064 - val_loss: 8.7194e-05 - val_mae: 0.0040\n",
      "Epoch 142/150\n",
      "\u001b[1m4503/4503\u001b[0m \u001b[32m━━━━━━━━━━━━━━━━━━━━\u001b[0m\u001b[37m\u001b[0m \u001b[1m4s\u001b[0m 802us/step - loss: 2.1305e-04 - mae: 0.0067 - val_loss: 4.8656e-05 - val_mae: 0.0039\n",
      "Epoch 143/150\n",
      "\u001b[1m4503/4503\u001b[0m \u001b[32m━━━━━━━━━━━━━━━━━━━━\u001b[0m\u001b[37m\u001b[0m \u001b[1m4s\u001b[0m 810us/step - loss: 1.5433e-04 - mae: 0.0070 - val_loss: 7.8534e-05 - val_mae: 0.0052\n",
      "Epoch 144/150\n",
      "\u001b[1m4503/4503\u001b[0m \u001b[32m━━━━━━━━━━━━━━━━━━━━\u001b[0m\u001b[37m\u001b[0m \u001b[1m4s\u001b[0m 799us/step - loss: 1.2570e-04 - mae: 0.0060 - val_loss: 8.1576e-05 - val_mae: 0.0060\n",
      "Epoch 145/150\n",
      "\u001b[1m4503/4503\u001b[0m \u001b[32m━━━━━━━━━━━━━━━━━━━━\u001b[0m\u001b[37m\u001b[0m \u001b[1m4s\u001b[0m 800us/step - loss: 2.2755e-04 - mae: 0.0070 - val_loss: 5.6994e-05 - val_mae: 0.0049\n",
      "Epoch 146/150\n",
      "\u001b[1m4503/4503\u001b[0m \u001b[32m━━━━━━━━━━━━━━━━━━━━\u001b[0m\u001b[37m\u001b[0m \u001b[1m4s\u001b[0m 818us/step - loss: 2.2077e-04 - mae: 0.0072 - val_loss: 6.7274e-05 - val_mae: 0.0053\n",
      "Epoch 147/150\n",
      "\u001b[1m4503/4503\u001b[0m \u001b[32m━━━━━━━━━━━━━━━━━━━━\u001b[0m\u001b[37m\u001b[0m \u001b[1m4s\u001b[0m 798us/step - loss: 1.4080e-04 - mae: 0.0064 - val_loss: 6.9038e-05 - val_mae: 0.0066\n",
      "Epoch 148/150\n",
      "\u001b[1m4503/4503\u001b[0m \u001b[32m━━━━━━━━━━━━━━━━━━━━\u001b[0m\u001b[37m\u001b[0m \u001b[1m4s\u001b[0m 802us/step - loss: 2.3381e-04 - mae: 0.0085 - val_loss: 2.5317e-05 - val_mae: 0.0033\n",
      "Epoch 149/150\n",
      "\u001b[1m4503/4503\u001b[0m \u001b[32m━━━━━━━━━━━━━━━━━━━━\u001b[0m\u001b[37m\u001b[0m \u001b[1m4s\u001b[0m 799us/step - loss: 2.2463e-04 - mae: 0.0070 - val_loss: 3.4672e-04 - val_mae: 0.0059\n",
      "Epoch 150/150\n",
      "\u001b[1m4503/4503\u001b[0m \u001b[32m━━━━━━━━━━━━━━━━━━━━\u001b[0m\u001b[37m\u001b[0m \u001b[1m4s\u001b[0m 890us/step - loss: 1.1370e-04 - mae: 0.0065 - val_loss: 1.9125e-04 - val_mae: 0.0041\n"
     ]
    },
    {
     "data": {
      "text/plain": [
       "<keras.src.callbacks.history.History at 0x29e0b09ed90>"
      ]
     },
     "execution_count": 109,
     "metadata": {},
     "output_type": "execute_result"
    }
   ],
   "source": [
    "#Fitting the data\n",
    "model.fit(X_train_scaled, y_train, validation_split = 0.2, epochs = 150)"
   ]
  },
  {
   "cell_type": "code",
   "execution_count": 110,
   "id": "f3e07d7a-bb1e-4744-a079-5312a00d3145",
   "metadata": {},
   "outputs": [
    {
     "name": "stdout",
     "output_type": "stream",
     "text": [
      "\u001b[1m2413/2413\u001b[0m \u001b[32m━━━━━━━━━━━━━━━━━━━━\u001b[0m\u001b[37m\u001b[0m \u001b[1m1s\u001b[0m 571us/step\n"
     ]
    }
   ],
   "source": [
    "#Prediction the data\n",
    "y_pred_test = model.predict(X_test_scaled)"
   ]
  },
  {
   "cell_type": "code",
   "execution_count": 111,
   "id": "104d6f24-ef09-4fd5-a49c-73ee9814891d",
   "metadata": {},
   "outputs": [
    {
     "data": {
      "image/png": "[encoded data removed]",
      "text/plain": [
       "<Figure size 640x480 with 1 Axes>"
      ]
     },
     "metadata": {},
     "output_type": "display_data"
    }
   ],
   "source": [
    "#Graph prediction\n",
    "plt.scatter(y_test, y_pred_test)\n",
    "plt.xlabel(\"Actual brightness\")\n",
    "plt.ylabel(\"Predicted brightness\")\n",
    "plt.show()"
   ]
  },
  {
   "cell_type": "code",
   "execution_count": 112,
   "id": "934aa2ad-a063-409e-a9d9-41db1ec1ae52",
   "metadata": {},
   "outputs": [
    {
     "data": {
      "text/plain": [
       "0.0003693231923207831"
      ]
     },
     "execution_count": 112,
     "metadata": {},
     "output_type": "execute_result"
    }
   ],
   "source": [
    "#loss functions (we dont get much loss)\n",
    "MSE = mean_squared_error(y_test, y_pred_test)\n",
    "MAE = mean_absolute_error(y_test, y_pred_test)\n",
    "MAPE = mean_absolute_percentage_error(y_test, y_pred_test)\n",
    "MAPE"
   ]
  },
  {
   "cell_type": "code",
   "execution_count": 113,
   "id": "028ab6b1-facd-47b6-beb4-5298d40bf25c",
   "metadata": {},
   "outputs": [
    {
     "data": {
      "text/plain": [
       "0.9999343981972776"
      ]
     },
     "execution_count": 113,
     "metadata": {},
     "output_type": "execute_result"
    }
   ],
   "source": [
    "#Applied science part. Our null hypothesis is that the observed and expected frequencies have NO SIGNIFICANT DIFFERENCE\n",
    "#Pearson's correlation test\n",
    "r2_score(y_test, y_pred_test)\n",
    "#The high correlation means the prediction and the actual frequencies are similar, which is what we want. Hence we accept the null hypothesis\n",
    "#This is quite a high R^2 score."
   ]
  },
  {
   "cell_type": "code",
   "execution_count": 114,
   "id": "6ec6cb85-b8e1-41c4-8d91-ef195491bc4b",
   "metadata": {},
   "outputs": [
    {
     "data": {
      "text/plain": [
       "1.0010741650406332"
      ]
     },
     "execution_count": 114,
     "metadata": {},
     "output_type": "execute_result"
    }
   ],
   "source": [
    "#The F test\n",
    "F = (np.var(y_pred_test))/(np.var(y_test))\n",
    "F\n",
    "#Our F value is less than 1 and that of 32 DoF, with apha = 0.05. Once again, this means we can accept our null hypothesis"
   ]
  },
  {
   "cell_type": "code",
   "execution_count": null,
   "id": "aa9e6059-07cc-4c56-bb2b-afdecd225a43",
   "metadata": {},
   "outputs": [],
   "source": []
  }
 ],
 "metadata": {
  "kernelspec": {
   "display_name": "Python 3 (ipykernel)",
   "language": "python",
   "name": "python3"
  },
  "language_info": {
   "codemirror_mode": {
    "name": "ipython",
    "version": 3
   },
   "file_extension": ".py",
   "mimetype": "text/x-python",
   "name": "python",
   "nbconvert_exporter": "python",
   "pygments_lexer": "ipython3",
   "version": "3.9.13"
  }
 },
 "nbformat": 4,
 "nbformat_minor": 5
}
